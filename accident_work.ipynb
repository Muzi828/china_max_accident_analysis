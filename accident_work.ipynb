{
 "cells": [
  {
   "cell_type": "code",
   "execution_count": 12,
   "metadata": {},
   "outputs": [],
   "source": [
    "import warnings\n",
    "warnings.filterwarnings('ignore')\n",
    "\n",
    "import pandas as pd\n",
    "import matplotlib.pyplot as plt\n",
    "import numpy as np\n",
    "from datetime import date\n",
    "%matplotlib inline\n",
    "\n",
    "plt.rcParams['font.family'] = ['sans-serif']\n",
    "plt.rcParams['font.sans-serif'] = ['SimHei']"
   ]
  },
  {
   "cell_type": "code",
   "execution_count": 13,
   "metadata": {},
   "outputs": [
    {
     "data": {
      "text/html": [
       "<div>\n",
       "<style scoped>\n",
       "    .dataframe tbody tr th:only-of-type {\n",
       "        vertical-align: middle;\n",
       "    }\n",
       "\n",
       "    .dataframe tbody tr th {\n",
       "        vertical-align: top;\n",
       "    }\n",
       "\n",
       "    .dataframe thead th {\n",
       "        text-align: right;\n",
       "    }\n",
       "</style>\n",
       "<table border=\"1\" class=\"dataframe\">\n",
       "  <thead>\n",
       "    <tr style=\"text-align: right;\">\n",
       "      <th></th>\n",
       "      <th>time</th>\n",
       "      <th>province</th>\n",
       "      <th>city</th>\n",
       "      <th>accident</th>\n",
       "      <th>death</th>\n",
       "      <th>injury</th>\n",
       "    </tr>\n",
       "  </thead>\n",
       "  <tbody>\n",
       "    <tr>\n",
       "      <th>0</th>\n",
       "      <td>2005-01-05</td>\n",
       "      <td>山西</td>\n",
       "      <td>运城市平陆县境内平风线</td>\n",
       "      <td>翻车</td>\n",
       "      <td>12.0</td>\n",
       "      <td>12.0</td>\n",
       "    </tr>\n",
       "    <tr>\n",
       "      <th>1</th>\n",
       "      <td>2005-01-06</td>\n",
       "      <td>福建</td>\n",
       "      <td>莆田市同三线高速公路莆田灵川路段</td>\n",
       "      <td>车辆失控</td>\n",
       "      <td>28.0</td>\n",
       "      <td>19.0</td>\n",
       "    </tr>\n",
       "    <tr>\n",
       "      <th>2</th>\n",
       "      <td>2005-01-11</td>\n",
       "      <td>山西</td>\n",
       "      <td>临汾市襄汾县京安村襄浏花炮厂装配车间</td>\n",
       "      <td>爆炸</td>\n",
       "      <td>25.0</td>\n",
       "      <td>10.0</td>\n",
       "    </tr>\n",
       "    <tr>\n",
       "      <th>3</th>\n",
       "      <td>2005-01-12</td>\n",
       "      <td>河南</td>\n",
       "      <td>洛阳市宜阳县城关乡乔岩直井煤矿</td>\n",
       "      <td>瓦斯燃烧</td>\n",
       "      <td>10.0</td>\n",
       "      <td>17.0</td>\n",
       "    </tr>\n",
       "    <tr>\n",
       "      <th>4</th>\n",
       "      <td>2005-01-16</td>\n",
       "      <td>重庆</td>\n",
       "      <td>南川区南城街道办事处云华煤业有限公司</td>\n",
       "      <td>煤与瓦斯突出</td>\n",
       "      <td>12.0</td>\n",
       "      <td>NaN</td>\n",
       "    </tr>\n",
       "  </tbody>\n",
       "</table>\n",
       "</div>"
      ],
      "text/plain": [
       "        time province                city accident  death  injury\n",
       "0 2005-01-05       山西         运城市平陆县境内平风线      翻车    12.0    12.0\n",
       "1 2005-01-06       福建    莆田市同三线高速公路莆田灵川路段     车辆失控   28.0    19.0\n",
       "2 2005-01-11       山西  临汾市襄汾县京安村襄浏花炮厂装配车间       爆炸   25.0    10.0\n",
       "3 2005-01-12       河南     洛阳市宜阳县城关乡乔岩直井煤矿     瓦斯燃烧   10.0    17.0\n",
       "4 2005-01-16       重庆  南川区南城街道办事处云华煤业有限公司   煤与瓦斯突出   12.0     NaN"
      ]
     },
     "execution_count": 13,
     "metadata": {},
     "output_type": "execute_result"
    }
   ],
   "source": [
    "df = pd.read_excel(r'D:\\paper\\safety\\data\\max_accident_data\\accident_type.xlsx')\n",
    "data = df.copy().drop('Unnamed: 6',axis =1)\n",
    "data.columns = ['time','province','city','accident','death','injury']\n",
    "data.head()"
   ]
  },
  {
   "cell_type": "code",
   "execution_count": 14,
   "metadata": {},
   "outputs": [],
   "source": [
    "def get_year_month_day(df,time_col):\n",
    "    \n",
    "    '''Extract the year, month, and day of the time field data'''\n",
    "    \n",
    "    df['year'] = df[time_col].dt.year\n",
    "    df['month'] = df[time_col].dt.month\n",
    "    df['day'] = df[time_col].dt.day\n",
    "    return df"
   ]
  },
  {
   "cell_type": "code",
   "execution_count": 15,
   "metadata": {},
   "outputs": [
    {
     "data": {
      "text/html": [
       "<div>\n",
       "<style scoped>\n",
       "    .dataframe tbody tr th:only-of-type {\n",
       "        vertical-align: middle;\n",
       "    }\n",
       "\n",
       "    .dataframe tbody tr th {\n",
       "        vertical-align: top;\n",
       "    }\n",
       "\n",
       "    .dataframe thead th {\n",
       "        text-align: right;\n",
       "    }\n",
       "</style>\n",
       "<table border=\"1\" class=\"dataframe\">\n",
       "  <thead>\n",
       "    <tr style=\"text-align: right;\">\n",
       "      <th></th>\n",
       "      <th>time</th>\n",
       "      <th>province</th>\n",
       "      <th>city</th>\n",
       "      <th>accident</th>\n",
       "      <th>death</th>\n",
       "      <th>injury</th>\n",
       "      <th>year</th>\n",
       "      <th>month</th>\n",
       "      <th>day</th>\n",
       "    </tr>\n",
       "  </thead>\n",
       "  <tbody>\n",
       "    <tr>\n",
       "      <th>848</th>\n",
       "      <td>2019-11-18</td>\n",
       "      <td>山西</td>\n",
       "      <td>晋中市平遥县</td>\n",
       "      <td>峰岩集团二亩沟矿瓦斯爆炸</td>\n",
       "      <td>15.0</td>\n",
       "      <td>NaN</td>\n",
       "      <td>2019</td>\n",
       "      <td>11</td>\n",
       "      <td>18</td>\n",
       "    </tr>\n",
       "    <tr>\n",
       "      <th>849</th>\n",
       "      <td>2019-11-26</td>\n",
       "      <td>云南</td>\n",
       "      <td>临沧市凤庆县</td>\n",
       "      <td>安石隧道掌子面突泥涌水</td>\n",
       "      <td>12.0</td>\n",
       "      <td>NaN</td>\n",
       "      <td>2019</td>\n",
       "      <td>11</td>\n",
       "      <td>26</td>\n",
       "    </tr>\n",
       "    <tr>\n",
       "      <th>850</th>\n",
       "      <td>2019-12-03</td>\n",
       "      <td>浙江</td>\n",
       "      <td>海宁市许村镇工业园</td>\n",
       "      <td>龙洲印染有限责任公司污水厌氧罐倒塌</td>\n",
       "      <td>10.0</td>\n",
       "      <td>NaN</td>\n",
       "      <td>2019</td>\n",
       "      <td>12</td>\n",
       "      <td>3</td>\n",
       "    </tr>\n",
       "    <tr>\n",
       "      <th>851</th>\n",
       "      <td>2019-12-04</td>\n",
       "      <td>湖南</td>\n",
       "      <td>浏阳市</td>\n",
       "      <td>澄潭江镇碧溪烟花制造有限公司违法生产致爆炸</td>\n",
       "      <td>13.0</td>\n",
       "      <td>NaN</td>\n",
       "      <td>2019</td>\n",
       "      <td>12</td>\n",
       "      <td>4</td>\n",
       "    </tr>\n",
       "    <tr>\n",
       "      <th>852</th>\n",
       "      <td>2019-12-17</td>\n",
       "      <td>贵州</td>\n",
       "      <td>安龙县</td>\n",
       "      <td>广隆煤矿煤与瓦斯突出</td>\n",
       "      <td>14.0</td>\n",
       "      <td>NaN</td>\n",
       "      <td>2019</td>\n",
       "      <td>12</td>\n",
       "      <td>17</td>\n",
       "    </tr>\n",
       "  </tbody>\n",
       "</table>\n",
       "</div>"
      ],
      "text/plain": [
       "          time province       city               accident  death  injury  \\\n",
       "848 2019-11-18       山西     晋中市平遥县           峰岩集团二亩沟矿瓦斯爆炸   15.0     NaN   \n",
       "849 2019-11-26       云南     临沧市凤庆县            安石隧道掌子面突泥涌水   12.0     NaN   \n",
       "850 2019-12-03       浙江  海宁市许村镇工业园      龙洲印染有限责任公司污水厌氧罐倒塌   10.0     NaN   \n",
       "851 2019-12-04       湖南        浏阳市  澄潭江镇碧溪烟花制造有限公司违法生产致爆炸   13.0     NaN   \n",
       "852 2019-12-17       贵州        安龙县             广隆煤矿煤与瓦斯突出   14.0     NaN   \n",
       "\n",
       "     year  month  day  \n",
       "848  2019     11   18  \n",
       "849  2019     11   26  \n",
       "850  2019     12    3  \n",
       "851  2019     12    4  \n",
       "852  2019     12   17  "
      ]
     },
     "execution_count": 15,
     "metadata": {},
     "output_type": "execute_result"
    }
   ],
   "source": [
    "get_year_month_day(data,'time').tail()"
   ]
  },
  {
   "cell_type": "markdown",
   "metadata": {},
   "source": [
    "### 加载中国2005-2019年节假日和加班的情况\n",
    "* ① 加载节假日的数据\n",
    "* ② 加载加班的数据"
   ]
  },
  {
   "cell_type": "code",
   "execution_count": 16,
   "metadata": {},
   "outputs": [
    {
     "data": {
      "text/html": [
       "<div>\n",
       "<style scoped>\n",
       "    .dataframe tbody tr th:only-of-type {\n",
       "        vertical-align: middle;\n",
       "    }\n",
       "\n",
       "    .dataframe tbody tr th {\n",
       "        vertical-align: top;\n",
       "    }\n",
       "\n",
       "    .dataframe thead th {\n",
       "        text-align: right;\n",
       "    }\n",
       "</style>\n",
       "<table border=\"1\" class=\"dataframe\">\n",
       "  <thead>\n",
       "    <tr style=\"text-align: right;\">\n",
       "      <th></th>\n",
       "      <th>日期</th>\n",
       "      <th>节假日</th>\n",
       "    </tr>\n",
       "  </thead>\n",
       "  <tbody>\n",
       "    <tr>\n",
       "      <th>410</th>\n",
       "      <td>2019-10-03</td>\n",
       "      <td>国庆节</td>\n",
       "    </tr>\n",
       "    <tr>\n",
       "      <th>411</th>\n",
       "      <td>2019-10-04</td>\n",
       "      <td>国庆节</td>\n",
       "    </tr>\n",
       "    <tr>\n",
       "      <th>412</th>\n",
       "      <td>2019-10-05</td>\n",
       "      <td>国庆节</td>\n",
       "    </tr>\n",
       "    <tr>\n",
       "      <th>413</th>\n",
       "      <td>2019-10-06</td>\n",
       "      <td>国庆节</td>\n",
       "    </tr>\n",
       "    <tr>\n",
       "      <th>414</th>\n",
       "      <td>2019-10-07</td>\n",
       "      <td>国庆节</td>\n",
       "    </tr>\n",
       "  </tbody>\n",
       "</table>\n",
       "</div>"
      ],
      "text/plain": [
       "            日期  节假日\n",
       "410 2019-10-03  国庆节\n",
       "411 2019-10-04  国庆节\n",
       "412 2019-10-05  国庆节\n",
       "413 2019-10-06  国庆节\n",
       "414 2019-10-07  国庆节"
      ]
     },
     "execution_count": 16,
     "metadata": {},
     "output_type": "execute_result"
    }
   ],
   "source": [
    "#① 加载节假日的数据\n",
    "holidays = pd.read_excel(r'D:\\paper\\safety\\data\\holidays.xlsx',usecols=['日期','节假日'])\n",
    "holidays.tail()"
   ]
  },
  {
   "cell_type": "code",
   "execution_count": 17,
   "metadata": {},
   "outputs": [
    {
     "data": {
      "text/plain": [
       "[datetime.date(2019, 10, 3),\n",
       " datetime.date(2019, 10, 4),\n",
       " datetime.date(2019, 10, 5),\n",
       " datetime.date(2019, 10, 6),\n",
       " datetime.date(2019, 10, 7)]"
      ]
     },
     "execution_count": 17,
     "metadata": {},
     "output_type": "execute_result"
    }
   ],
   "source": [
    "#将时间数据转化为可用的数据格式\n",
    "holidays_date = [holidays.loc[i,'日期'].date() for i in range(len(holidays))]\n",
    "holidays_date[-5:]"
   ]
  },
  {
   "cell_type": "code",
   "execution_count": 18,
   "metadata": {},
   "outputs": [
    {
     "data": {
      "text/html": [
       "<div>\n",
       "<style scoped>\n",
       "    .dataframe tbody tr th:only-of-type {\n",
       "        vertical-align: middle;\n",
       "    }\n",
       "\n",
       "    .dataframe tbody tr th {\n",
       "        vertical-align: top;\n",
       "    }\n",
       "\n",
       "    .dataframe thead th {\n",
       "        text-align: right;\n",
       "    }\n",
       "</style>\n",
       "<table border=\"1\" class=\"dataframe\">\n",
       "  <thead>\n",
       "    <tr style=\"text-align: right;\">\n",
       "      <th></th>\n",
       "      <th>日期</th>\n",
       "      <th>节假日</th>\n",
       "    </tr>\n",
       "  </thead>\n",
       "  <tbody>\n",
       "    <tr>\n",
       "      <th>90</th>\n",
       "      <td>2019-02-03</td>\n",
       "      <td>春节</td>\n",
       "    </tr>\n",
       "    <tr>\n",
       "      <th>91</th>\n",
       "      <td>2019-04-28</td>\n",
       "      <td>劳动节</td>\n",
       "    </tr>\n",
       "    <tr>\n",
       "      <th>92</th>\n",
       "      <td>2019-05-05</td>\n",
       "      <td>劳动节</td>\n",
       "    </tr>\n",
       "    <tr>\n",
       "      <th>93</th>\n",
       "      <td>2019-09-29</td>\n",
       "      <td>国庆节</td>\n",
       "    </tr>\n",
       "    <tr>\n",
       "      <th>94</th>\n",
       "      <td>2019-10-12</td>\n",
       "      <td>国庆节</td>\n",
       "    </tr>\n",
       "  </tbody>\n",
       "</table>\n",
       "</div>"
      ],
      "text/plain": [
       "           日期  节假日\n",
       "90 2019-02-03   春节\n",
       "91 2019-04-28  劳动节\n",
       "92 2019-05-05  劳动节\n",
       "93 2019-09-29  国庆节\n",
       "94 2019-10-12  国庆节"
      ]
     },
     "execution_count": 18,
     "metadata": {},
     "output_type": "execute_result"
    }
   ],
   "source": [
    "#② 加载加班的数据\n",
    "add_work = pd.read_excel(r'D:\\paper\\safety\\data\\add_work.xlsx',usecols=['日期','节假日'])\n",
    "add_work.tail()"
   ]
  },
  {
   "cell_type": "code",
   "execution_count": 19,
   "metadata": {},
   "outputs": [
    {
     "data": {
      "text/plain": [
       "[datetime.date(2019, 2, 3),\n",
       " datetime.date(2019, 4, 28),\n",
       " datetime.date(2019, 5, 5),\n",
       " datetime.date(2019, 9, 29),\n",
       " datetime.date(2019, 10, 12)]"
      ]
     },
     "execution_count": 19,
     "metadata": {},
     "output_type": "execute_result"
    }
   ],
   "source": [
    "#将时间数据转化为可用的数据格式\n",
    "add_work_date = [add_work.loc[i,'日期'].date() for i in range(len(add_work))]\n",
    "add_work_date[-5:]"
   ]
  },
  {
   "cell_type": "markdown",
   "metadata": {},
   "source": [
    "### 判断事故发生的时间是否为休息日"
   ]
  },
  {
   "cell_type": "code",
   "execution_count": 20,
   "metadata": {},
   "outputs": [],
   "source": [
    "def restday(year,month,day,holidays_date,add_work_date):\n",
    "    is_holiday    = [None]*len(year)\n",
    "    is_weekend = [None]*len(year)\n",
    "    i=0\n",
    "    for yy,mm,dd in zip(year,month,day):        \n",
    "        is_weekend[i] = (date(yy,mm,dd) not in add_work_date) and (date(yy,mm,dd).isoweekday() in (6,7)) and (date(yy,mm,dd) not in holidays_date)\n",
    "        is_holiday[i] = date(yy,mm,dd) in holidays_date \n",
    "        i+=1\n",
    "    return is_holiday,is_weekend"
   ]
  },
  {
   "cell_type": "code",
   "execution_count": 21,
   "metadata": {},
   "outputs": [],
   "source": [
    "year,month,day = data.time.dt.year, data.time.dt.month, data.time.dt.day\n",
    "holiday,weekend = restday(year,month,day,holidays_date,add_work_date)\n",
    "data['holiday'] = holiday\n",
    "data['weekend'] = weekend"
   ]
  },
  {
   "cell_type": "code",
   "execution_count": 22,
   "metadata": {},
   "outputs": [
    {
     "data": {
      "text/html": [
       "<div>\n",
       "<style scoped>\n",
       "    .dataframe tbody tr th:only-of-type {\n",
       "        vertical-align: middle;\n",
       "    }\n",
       "\n",
       "    .dataframe tbody tr th {\n",
       "        vertical-align: top;\n",
       "    }\n",
       "\n",
       "    .dataframe thead th {\n",
       "        text-align: right;\n",
       "    }\n",
       "</style>\n",
       "<table border=\"1\" class=\"dataframe\">\n",
       "  <thead>\n",
       "    <tr style=\"text-align: right;\">\n",
       "      <th></th>\n",
       "      <th>time</th>\n",
       "      <th>province</th>\n",
       "      <th>city</th>\n",
       "      <th>accident</th>\n",
       "      <th>death</th>\n",
       "      <th>injury</th>\n",
       "      <th>year</th>\n",
       "      <th>month</th>\n",
       "      <th>day</th>\n",
       "      <th>holiday</th>\n",
       "      <th>weekend</th>\n",
       "    </tr>\n",
       "  </thead>\n",
       "  <tbody>\n",
       "    <tr>\n",
       "      <th>0</th>\n",
       "      <td>2005-01-05</td>\n",
       "      <td>山西</td>\n",
       "      <td>运城市平陆县境内平风线</td>\n",
       "      <td>翻车</td>\n",
       "      <td>12.0</td>\n",
       "      <td>12.0</td>\n",
       "      <td>2005</td>\n",
       "      <td>1</td>\n",
       "      <td>5</td>\n",
       "      <td>False</td>\n",
       "      <td>False</td>\n",
       "    </tr>\n",
       "    <tr>\n",
       "      <th>1</th>\n",
       "      <td>2005-01-06</td>\n",
       "      <td>福建</td>\n",
       "      <td>莆田市同三线高速公路莆田灵川路段</td>\n",
       "      <td>车辆失控</td>\n",
       "      <td>28.0</td>\n",
       "      <td>19.0</td>\n",
       "      <td>2005</td>\n",
       "      <td>1</td>\n",
       "      <td>6</td>\n",
       "      <td>False</td>\n",
       "      <td>False</td>\n",
       "    </tr>\n",
       "    <tr>\n",
       "      <th>2</th>\n",
       "      <td>2005-01-11</td>\n",
       "      <td>山西</td>\n",
       "      <td>临汾市襄汾县京安村襄浏花炮厂装配车间</td>\n",
       "      <td>爆炸</td>\n",
       "      <td>25.0</td>\n",
       "      <td>10.0</td>\n",
       "      <td>2005</td>\n",
       "      <td>1</td>\n",
       "      <td>11</td>\n",
       "      <td>False</td>\n",
       "      <td>False</td>\n",
       "    </tr>\n",
       "    <tr>\n",
       "      <th>3</th>\n",
       "      <td>2005-01-12</td>\n",
       "      <td>河南</td>\n",
       "      <td>洛阳市宜阳县城关乡乔岩直井煤矿</td>\n",
       "      <td>瓦斯燃烧</td>\n",
       "      <td>10.0</td>\n",
       "      <td>17.0</td>\n",
       "      <td>2005</td>\n",
       "      <td>1</td>\n",
       "      <td>12</td>\n",
       "      <td>False</td>\n",
       "      <td>False</td>\n",
       "    </tr>\n",
       "    <tr>\n",
       "      <th>4</th>\n",
       "      <td>2005-01-16</td>\n",
       "      <td>重庆</td>\n",
       "      <td>南川区南城街道办事处云华煤业有限公司</td>\n",
       "      <td>煤与瓦斯突出</td>\n",
       "      <td>12.0</td>\n",
       "      <td>NaN</td>\n",
       "      <td>2005</td>\n",
       "      <td>1</td>\n",
       "      <td>16</td>\n",
       "      <td>False</td>\n",
       "      <td>True</td>\n",
       "    </tr>\n",
       "  </tbody>\n",
       "</table>\n",
       "</div>"
      ],
      "text/plain": [
       "        time province                city accident  death  injury  year  \\\n",
       "0 2005-01-05       山西         运城市平陆县境内平风线      翻车    12.0    12.0  2005   \n",
       "1 2005-01-06       福建    莆田市同三线高速公路莆田灵川路段     车辆失控   28.0    19.0  2005   \n",
       "2 2005-01-11       山西  临汾市襄汾县京安村襄浏花炮厂装配车间       爆炸   25.0    10.0  2005   \n",
       "3 2005-01-12       河南     洛阳市宜阳县城关乡乔岩直井煤矿     瓦斯燃烧   10.0    17.0  2005   \n",
       "4 2005-01-16       重庆  南川区南城街道办事处云华煤业有限公司   煤与瓦斯突出   12.0     NaN  2005   \n",
       "\n",
       "   month  day  holiday  weekend  \n",
       "0      1    5    False    False  \n",
       "1      1    6    False    False  \n",
       "2      1   11    False    False  \n",
       "3      1   12    False    False  \n",
       "4      1   16    False     True  "
      ]
     },
     "execution_count": 22,
     "metadata": {},
     "output_type": "execute_result"
    }
   ],
   "source": [
    "data.head()\n",
    "#证明是有在节假日和周末发生的事故"
   ]
  },
  {
   "cell_type": "markdown",
   "metadata": {},
   "source": [
    "## 添加节假日数据"
   ]
  },
  {
   "cell_type": "code",
   "execution_count": 23,
   "metadata": {},
   "outputs": [
    {
     "data": {
      "text/html": [
       "<div>\n",
       "<style scoped>\n",
       "    .dataframe tbody tr th:only-of-type {\n",
       "        vertical-align: middle;\n",
       "    }\n",
       "\n",
       "    .dataframe tbody tr th {\n",
       "        vertical-align: top;\n",
       "    }\n",
       "\n",
       "    .dataframe thead th {\n",
       "        text-align: right;\n",
       "    }\n",
       "</style>\n",
       "<table border=\"1\" class=\"dataframe\">\n",
       "  <thead>\n",
       "    <tr style=\"text-align: right;\">\n",
       "      <th></th>\n",
       "      <th>time</th>\n",
       "      <th>province</th>\n",
       "      <th>city</th>\n",
       "      <th>accident</th>\n",
       "      <th>death</th>\n",
       "      <th>injury</th>\n",
       "      <th>year</th>\n",
       "      <th>month</th>\n",
       "      <th>day</th>\n",
       "      <th>holiday</th>\n",
       "      <th>weekend</th>\n",
       "      <th>日期</th>\n",
       "      <th>节假日</th>\n",
       "    </tr>\n",
       "  </thead>\n",
       "  <tbody>\n",
       "    <tr>\n",
       "      <th>0</th>\n",
       "      <td>2005-01-05</td>\n",
       "      <td>山西</td>\n",
       "      <td>运城市平陆县境内平风线</td>\n",
       "      <td>翻车</td>\n",
       "      <td>12.0</td>\n",
       "      <td>12.0</td>\n",
       "      <td>2005</td>\n",
       "      <td>1</td>\n",
       "      <td>5</td>\n",
       "      <td>False</td>\n",
       "      <td>False</td>\n",
       "      <td>NaT</td>\n",
       "      <td>NaN</td>\n",
       "    </tr>\n",
       "    <tr>\n",
       "      <th>1</th>\n",
       "      <td>2005-01-06</td>\n",
       "      <td>福建</td>\n",
       "      <td>莆田市同三线高速公路莆田灵川路段</td>\n",
       "      <td>车辆失控</td>\n",
       "      <td>28.0</td>\n",
       "      <td>19.0</td>\n",
       "      <td>2005</td>\n",
       "      <td>1</td>\n",
       "      <td>6</td>\n",
       "      <td>False</td>\n",
       "      <td>False</td>\n",
       "      <td>NaT</td>\n",
       "      <td>NaN</td>\n",
       "    </tr>\n",
       "    <tr>\n",
       "      <th>2</th>\n",
       "      <td>2005-01-11</td>\n",
       "      <td>山西</td>\n",
       "      <td>临汾市襄汾县京安村襄浏花炮厂装配车间</td>\n",
       "      <td>爆炸</td>\n",
       "      <td>25.0</td>\n",
       "      <td>10.0</td>\n",
       "      <td>2005</td>\n",
       "      <td>1</td>\n",
       "      <td>11</td>\n",
       "      <td>False</td>\n",
       "      <td>False</td>\n",
       "      <td>NaT</td>\n",
       "      <td>NaN</td>\n",
       "    </tr>\n",
       "    <tr>\n",
       "      <th>3</th>\n",
       "      <td>2005-01-12</td>\n",
       "      <td>河南</td>\n",
       "      <td>洛阳市宜阳县城关乡乔岩直井煤矿</td>\n",
       "      <td>瓦斯燃烧</td>\n",
       "      <td>10.0</td>\n",
       "      <td>17.0</td>\n",
       "      <td>2005</td>\n",
       "      <td>1</td>\n",
       "      <td>12</td>\n",
       "      <td>False</td>\n",
       "      <td>False</td>\n",
       "      <td>NaT</td>\n",
       "      <td>NaN</td>\n",
       "    </tr>\n",
       "    <tr>\n",
       "      <th>4</th>\n",
       "      <td>2005-01-16</td>\n",
       "      <td>重庆</td>\n",
       "      <td>南川区南城街道办事处云华煤业有限公司</td>\n",
       "      <td>煤与瓦斯突出</td>\n",
       "      <td>12.0</td>\n",
       "      <td>NaN</td>\n",
       "      <td>2005</td>\n",
       "      <td>1</td>\n",
       "      <td>16</td>\n",
       "      <td>False</td>\n",
       "      <td>True</td>\n",
       "      <td>NaT</td>\n",
       "      <td>NaN</td>\n",
       "    </tr>\n",
       "  </tbody>\n",
       "</table>\n",
       "</div>"
      ],
      "text/plain": [
       "        time province                city accident  death  injury  year  \\\n",
       "0 2005-01-05       山西         运城市平陆县境内平风线      翻车    12.0    12.0  2005   \n",
       "1 2005-01-06       福建    莆田市同三线高速公路莆田灵川路段     车辆失控   28.0    19.0  2005   \n",
       "2 2005-01-11       山西  临汾市襄汾县京安村襄浏花炮厂装配车间       爆炸   25.0    10.0  2005   \n",
       "3 2005-01-12       河南     洛阳市宜阳县城关乡乔岩直井煤矿     瓦斯燃烧   10.0    17.0  2005   \n",
       "4 2005-01-16       重庆  南川区南城街道办事处云华煤业有限公司   煤与瓦斯突出   12.0     NaN  2005   \n",
       "\n",
       "   month  day  holiday  weekend  日期  节假日  \n",
       "0      1    5    False    False NaT  NaN  \n",
       "1      1    6    False    False NaT  NaN  \n",
       "2      1   11    False    False NaT  NaN  \n",
       "3      1   12    False    False NaT  NaN  \n",
       "4      1   16    False     True NaT  NaN  "
      ]
     },
     "execution_count": 23,
     "metadata": {},
     "output_type": "execute_result"
    }
   ],
   "source": [
    "data = pd.merge(data,holidays,left_on = 'time', right_on = '日期', how = 'left')\n",
    "data.head()"
   ]
  },
  {
   "cell_type": "code",
   "execution_count": 24,
   "metadata": {},
   "outputs": [],
   "source": [
    "#这时候就可以删除日期字段了(它的作用就是用来作为合并数据的依据)，\n",
    "#有两个节假日信息，第一个英文的是是否为节假日，第二个是具体的节假日名称（这也是为什么这一列单独使用汉字的原因）\n",
    "data.drop('日期',axis=1,inplace = True)"
   ]
  },
  {
   "cell_type": "code",
   "execution_count": 25,
   "metadata": {},
   "outputs": [
    {
     "data": {
      "text/html": [
       "<div>\n",
       "<style scoped>\n",
       "    .dataframe tbody tr th:only-of-type {\n",
       "        vertical-align: middle;\n",
       "    }\n",
       "\n",
       "    .dataframe tbody tr th {\n",
       "        vertical-align: top;\n",
       "    }\n",
       "\n",
       "    .dataframe thead th {\n",
       "        text-align: right;\n",
       "    }\n",
       "</style>\n",
       "<table border=\"1\" class=\"dataframe\">\n",
       "  <thead>\n",
       "    <tr style=\"text-align: right;\">\n",
       "      <th></th>\n",
       "      <th>time</th>\n",
       "      <th>province</th>\n",
       "      <th>city</th>\n",
       "      <th>accident</th>\n",
       "      <th>death</th>\n",
       "      <th>injury</th>\n",
       "      <th>year</th>\n",
       "      <th>month</th>\n",
       "      <th>day</th>\n",
       "      <th>holiday</th>\n",
       "      <th>weekend</th>\n",
       "      <th>节假日</th>\n",
       "    </tr>\n",
       "  </thead>\n",
       "  <tbody>\n",
       "    <tr>\n",
       "      <th>0</th>\n",
       "      <td>2005-01-05</td>\n",
       "      <td>山西</td>\n",
       "      <td>运城市平陆县境内平风线</td>\n",
       "      <td>翻车</td>\n",
       "      <td>12.0</td>\n",
       "      <td>12.0</td>\n",
       "      <td>2005</td>\n",
       "      <td>1</td>\n",
       "      <td>5</td>\n",
       "      <td>False</td>\n",
       "      <td>False</td>\n",
       "      <td>NaN</td>\n",
       "    </tr>\n",
       "    <tr>\n",
       "      <th>1</th>\n",
       "      <td>2005-01-06</td>\n",
       "      <td>福建</td>\n",
       "      <td>莆田市同三线高速公路莆田灵川路段</td>\n",
       "      <td>车辆失控</td>\n",
       "      <td>28.0</td>\n",
       "      <td>19.0</td>\n",
       "      <td>2005</td>\n",
       "      <td>1</td>\n",
       "      <td>6</td>\n",
       "      <td>False</td>\n",
       "      <td>False</td>\n",
       "      <td>NaN</td>\n",
       "    </tr>\n",
       "    <tr>\n",
       "      <th>2</th>\n",
       "      <td>2005-01-11</td>\n",
       "      <td>山西</td>\n",
       "      <td>临汾市襄汾县京安村襄浏花炮厂装配车间</td>\n",
       "      <td>爆炸</td>\n",
       "      <td>25.0</td>\n",
       "      <td>10.0</td>\n",
       "      <td>2005</td>\n",
       "      <td>1</td>\n",
       "      <td>11</td>\n",
       "      <td>False</td>\n",
       "      <td>False</td>\n",
       "      <td>NaN</td>\n",
       "    </tr>\n",
       "    <tr>\n",
       "      <th>3</th>\n",
       "      <td>2005-01-12</td>\n",
       "      <td>河南</td>\n",
       "      <td>洛阳市宜阳县城关乡乔岩直井煤矿</td>\n",
       "      <td>瓦斯燃烧</td>\n",
       "      <td>10.0</td>\n",
       "      <td>17.0</td>\n",
       "      <td>2005</td>\n",
       "      <td>1</td>\n",
       "      <td>12</td>\n",
       "      <td>False</td>\n",
       "      <td>False</td>\n",
       "      <td>NaN</td>\n",
       "    </tr>\n",
       "    <tr>\n",
       "      <th>4</th>\n",
       "      <td>2005-01-16</td>\n",
       "      <td>重庆</td>\n",
       "      <td>南川区南城街道办事处云华煤业有限公司</td>\n",
       "      <td>煤与瓦斯突出</td>\n",
       "      <td>12.0</td>\n",
       "      <td>NaN</td>\n",
       "      <td>2005</td>\n",
       "      <td>1</td>\n",
       "      <td>16</td>\n",
       "      <td>False</td>\n",
       "      <td>True</td>\n",
       "      <td>NaN</td>\n",
       "    </tr>\n",
       "    <tr>\n",
       "      <th>...</th>\n",
       "      <td>...</td>\n",
       "      <td>...</td>\n",
       "      <td>...</td>\n",
       "      <td>...</td>\n",
       "      <td>...</td>\n",
       "      <td>...</td>\n",
       "      <td>...</td>\n",
       "      <td>...</td>\n",
       "      <td>...</td>\n",
       "      <td>...</td>\n",
       "      <td>...</td>\n",
       "      <td>...</td>\n",
       "    </tr>\n",
       "    <tr>\n",
       "      <th>848</th>\n",
       "      <td>2019-11-18</td>\n",
       "      <td>山西</td>\n",
       "      <td>晋中市平遥县</td>\n",
       "      <td>峰岩集团二亩沟矿瓦斯爆炸</td>\n",
       "      <td>15.0</td>\n",
       "      <td>NaN</td>\n",
       "      <td>2019</td>\n",
       "      <td>11</td>\n",
       "      <td>18</td>\n",
       "      <td>False</td>\n",
       "      <td>False</td>\n",
       "      <td>NaN</td>\n",
       "    </tr>\n",
       "    <tr>\n",
       "      <th>849</th>\n",
       "      <td>2019-11-26</td>\n",
       "      <td>云南</td>\n",
       "      <td>临沧市凤庆县</td>\n",
       "      <td>安石隧道掌子面突泥涌水</td>\n",
       "      <td>12.0</td>\n",
       "      <td>NaN</td>\n",
       "      <td>2019</td>\n",
       "      <td>11</td>\n",
       "      <td>26</td>\n",
       "      <td>False</td>\n",
       "      <td>False</td>\n",
       "      <td>NaN</td>\n",
       "    </tr>\n",
       "    <tr>\n",
       "      <th>850</th>\n",
       "      <td>2019-12-03</td>\n",
       "      <td>浙江</td>\n",
       "      <td>海宁市许村镇工业园</td>\n",
       "      <td>龙洲印染有限责任公司污水厌氧罐倒塌</td>\n",
       "      <td>10.0</td>\n",
       "      <td>NaN</td>\n",
       "      <td>2019</td>\n",
       "      <td>12</td>\n",
       "      <td>3</td>\n",
       "      <td>False</td>\n",
       "      <td>False</td>\n",
       "      <td>NaN</td>\n",
       "    </tr>\n",
       "    <tr>\n",
       "      <th>851</th>\n",
       "      <td>2019-12-04</td>\n",
       "      <td>湖南</td>\n",
       "      <td>浏阳市</td>\n",
       "      <td>澄潭江镇碧溪烟花制造有限公司违法生产致爆炸</td>\n",
       "      <td>13.0</td>\n",
       "      <td>NaN</td>\n",
       "      <td>2019</td>\n",
       "      <td>12</td>\n",
       "      <td>4</td>\n",
       "      <td>False</td>\n",
       "      <td>False</td>\n",
       "      <td>NaN</td>\n",
       "    </tr>\n",
       "    <tr>\n",
       "      <th>852</th>\n",
       "      <td>2019-12-17</td>\n",
       "      <td>贵州</td>\n",
       "      <td>安龙县</td>\n",
       "      <td>广隆煤矿煤与瓦斯突出</td>\n",
       "      <td>14.0</td>\n",
       "      <td>NaN</td>\n",
       "      <td>2019</td>\n",
       "      <td>12</td>\n",
       "      <td>17</td>\n",
       "      <td>False</td>\n",
       "      <td>False</td>\n",
       "      <td>NaN</td>\n",
       "    </tr>\n",
       "  </tbody>\n",
       "</table>\n",
       "<p>853 rows × 12 columns</p>\n",
       "</div>"
      ],
      "text/plain": [
       "          time province                city               accident  death  \\\n",
       "0   2005-01-05       山西         运城市平陆县境内平风线                    翻车    12.0   \n",
       "1   2005-01-06       福建    莆田市同三线高速公路莆田灵川路段                   车辆失控   28.0   \n",
       "2   2005-01-11       山西  临汾市襄汾县京安村襄浏花炮厂装配车间                     爆炸   25.0   \n",
       "3   2005-01-12       河南     洛阳市宜阳县城关乡乔岩直井煤矿                   瓦斯燃烧   10.0   \n",
       "4   2005-01-16       重庆  南川区南城街道办事处云华煤业有限公司                 煤与瓦斯突出   12.0   \n",
       "..         ...      ...                 ...                    ...    ...   \n",
       "848 2019-11-18       山西              晋中市平遥县           峰岩集团二亩沟矿瓦斯爆炸   15.0   \n",
       "849 2019-11-26       云南              临沧市凤庆县            安石隧道掌子面突泥涌水   12.0   \n",
       "850 2019-12-03       浙江           海宁市许村镇工业园      龙洲印染有限责任公司污水厌氧罐倒塌   10.0   \n",
       "851 2019-12-04       湖南                 浏阳市  澄潭江镇碧溪烟花制造有限公司违法生产致爆炸   13.0   \n",
       "852 2019-12-17       贵州                 安龙县             广隆煤矿煤与瓦斯突出   14.0   \n",
       "\n",
       "     injury  year  month  day  holiday  weekend  节假日  \n",
       "0      12.0  2005      1    5    False    False  NaN  \n",
       "1      19.0  2005      1    6    False    False  NaN  \n",
       "2      10.0  2005      1   11    False    False  NaN  \n",
       "3      17.0  2005      1   12    False    False  NaN  \n",
       "4       NaN  2005      1   16    False     True  NaN  \n",
       "..      ...   ...    ...  ...      ...      ...  ...  \n",
       "848     NaN  2019     11   18    False    False  NaN  \n",
       "849     NaN  2019     11   26    False    False  NaN  \n",
       "850     NaN  2019     12    3    False    False  NaN  \n",
       "851     NaN  2019     12    4    False    False  NaN  \n",
       "852     NaN  2019     12   17    False    False  NaN  \n",
       "\n",
       "[853 rows x 12 columns]"
      ]
     },
     "execution_count": 25,
     "metadata": {},
     "output_type": "execute_result"
    }
   ],
   "source": [
    "data"
   ]
  },
  {
   "cell_type": "markdown",
   "metadata": {},
   "source": [
    "### 因调休周末上班发生的事故"
   ]
  },
  {
   "cell_type": "code",
   "execution_count": 27,
   "metadata": {},
   "outputs": [
    {
     "name": "stdout",
     "output_type": "stream",
     "text": [
      "15\n"
     ]
    },
    {
     "data": {
      "text/html": [
       "<div>\n",
       "<style scoped>\n",
       "    .dataframe tbody tr th:only-of-type {\n",
       "        vertical-align: middle;\n",
       "    }\n",
       "\n",
       "    .dataframe tbody tr th {\n",
       "        vertical-align: top;\n",
       "    }\n",
       "\n",
       "    .dataframe thead th {\n",
       "        text-align: right;\n",
       "    }\n",
       "</style>\n",
       "<table border=\"1\" class=\"dataframe\">\n",
       "  <thead>\n",
       "    <tr style=\"text-align: right;\">\n",
       "      <th></th>\n",
       "      <th>time</th>\n",
       "      <th>province</th>\n",
       "      <th>city</th>\n",
       "      <th>accident</th>\n",
       "      <th>death</th>\n",
       "      <th>injury</th>\n",
       "      <th>year</th>\n",
       "      <th>month</th>\n",
       "      <th>day</th>\n",
       "      <th>holiday</th>\n",
       "      <th>weekend</th>\n",
       "      <th>节假日</th>\n",
       "      <th>weekend_work</th>\n",
       "    </tr>\n",
       "  </thead>\n",
       "  <tbody>\n",
       "    <tr>\n",
       "      <th>38</th>\n",
       "      <td>2005-04-30</td>\n",
       "      <td>贵州</td>\n",
       "      <td>纳雍县鬃岭镇乡镇煤矿嫩草冲煤矿</td>\n",
       "      <td>瓦斯爆炸</td>\n",
       "      <td>12.0</td>\n",
       "      <td>NaN</td>\n",
       "      <td>2005</td>\n",
       "      <td>4</td>\n",
       "      <td>30</td>\n",
       "      <td>False</td>\n",
       "      <td>False</td>\n",
       "      <td>NaN</td>\n",
       "      <td>True</td>\n",
       "    </tr>\n",
       "    <tr>\n",
       "      <th>90</th>\n",
       "      <td>2005-10-08</td>\n",
       "      <td>浙江</td>\n",
       "      <td>湖州市开发区九九桥</td>\n",
       "      <td>坠河</td>\n",
       "      <td>22.0</td>\n",
       "      <td>NaN</td>\n",
       "      <td>2005</td>\n",
       "      <td>10</td>\n",
       "      <td>8</td>\n",
       "      <td>False</td>\n",
       "      <td>False</td>\n",
       "      <td>NaN</td>\n",
       "      <td>True</td>\n",
       "    </tr>\n",
       "    <tr>\n",
       "      <th>164</th>\n",
       "      <td>2006-04-29</td>\n",
       "      <td>陕西</td>\n",
       "      <td>延安市子长县瓦窑堡煤矿</td>\n",
       "      <td>瓦斯爆炸</td>\n",
       "      <td>27.0</td>\n",
       "      <td>5.0</td>\n",
       "      <td>2006</td>\n",
       "      <td>4</td>\n",
       "      <td>29</td>\n",
       "      <td>False</td>\n",
       "      <td>False</td>\n",
       "      <td>NaN</td>\n",
       "      <td>True</td>\n",
       "    </tr>\n",
       "    <tr>\n",
       "      <th>165</th>\n",
       "      <td>2006-04-30</td>\n",
       "      <td>陕西</td>\n",
       "      <td>镇安县米粮镇光明村山沟镇安黄金尾矿</td>\n",
       "      <td>溃坝</td>\n",
       "      <td>NaN</td>\n",
       "      <td>22.0</td>\n",
       "      <td>2006</td>\n",
       "      <td>4</td>\n",
       "      <td>30</td>\n",
       "      <td>False</td>\n",
       "      <td>False</td>\n",
       "      <td>NaN</td>\n",
       "      <td>True</td>\n",
       "    </tr>\n",
       "    <tr>\n",
       "      <th>199</th>\n",
       "      <td>2006-09-30</td>\n",
       "      <td>黑龙江</td>\n",
       "      <td>鸡西市鸡东县哈达天龙煤矿</td>\n",
       "      <td>瓦斯爆炸</td>\n",
       "      <td>13.0</td>\n",
       "      <td>NaN</td>\n",
       "      <td>2006</td>\n",
       "      <td>9</td>\n",
       "      <td>30</td>\n",
       "      <td>False</td>\n",
       "      <td>False</td>\n",
       "      <td>NaN</td>\n",
       "      <td>True</td>\n",
       "    </tr>\n",
       "    <tr>\n",
       "      <th>306</th>\n",
       "      <td>2007-12-29</td>\n",
       "      <td>黑龙江</td>\n",
       "      <td>牡丹江市穆棱市顺发煤矿</td>\n",
       "      <td>瓦斯</td>\n",
       "      <td>1.0</td>\n",
       "      <td>20.0</td>\n",
       "      <td>2007</td>\n",
       "      <td>12</td>\n",
       "      <td>29</td>\n",
       "      <td>False</td>\n",
       "      <td>False</td>\n",
       "      <td>NaN</td>\n",
       "      <td>True</td>\n",
       "    </tr>\n",
       "    <tr>\n",
       "      <th>317</th>\n",
       "      <td>2008-02-03</td>\n",
       "      <td>福建</td>\n",
       "      <td>宁德市远洋渔业集团公司</td>\n",
       "      <td>沉船</td>\n",
       "      <td>NaN</td>\n",
       "      <td>12.0</td>\n",
       "      <td>2008</td>\n",
       "      <td>2</td>\n",
       "      <td>3</td>\n",
       "      <td>False</td>\n",
       "      <td>False</td>\n",
       "      <td>NaN</td>\n",
       "      <td>True</td>\n",
       "    </tr>\n",
       "    <tr>\n",
       "      <th>405</th>\n",
       "      <td>2009-02-01</td>\n",
       "      <td>内蒙古</td>\n",
       "      <td>赤峰市喀喇沁旗王爷府镇团结地村路段一交乂道口</td>\n",
       "      <td>相撞</td>\n",
       "      <td>10.0</td>\n",
       "      <td>9.0</td>\n",
       "      <td>2009</td>\n",
       "      <td>2</td>\n",
       "      <td>1</td>\n",
       "      <td>False</td>\n",
       "      <td>False</td>\n",
       "      <td>NaN</td>\n",
       "      <td>True</td>\n",
       "    </tr>\n",
       "    <tr>\n",
       "      <th>538</th>\n",
       "      <td>2010-10-09</td>\n",
       "      <td>江苏</td>\n",
       "      <td>南京市浦口区宁合高速公路454km+100m处</td>\n",
       "      <td>槽罐大客相撞</td>\n",
       "      <td>17.0</td>\n",
       "      <td>6.0</td>\n",
       "      <td>2010</td>\n",
       "      <td>10</td>\n",
       "      <td>9</td>\n",
       "      <td>False</td>\n",
       "      <td>False</td>\n",
       "      <td>NaN</td>\n",
       "      <td>True</td>\n",
       "    </tr>\n",
       "    <tr>\n",
       "      <th>570</th>\n",
       "      <td>2011-04-02</td>\n",
       "      <td>新疆</td>\n",
       "      <td>乌鲁木齐市焦煤集团主焦煤分公司艾维尔沟煤矿</td>\n",
       "      <td>发生冒顶</td>\n",
       "      <td>10.0</td>\n",
       "      <td>NaN</td>\n",
       "      <td>2011</td>\n",
       "      <td>4</td>\n",
       "      <td>2</td>\n",
       "      <td>False</td>\n",
       "      <td>False</td>\n",
       "      <td>NaN</td>\n",
       "      <td>True</td>\n",
       "    </tr>\n",
       "    <tr>\n",
       "      <th>607</th>\n",
       "      <td>2011-10-08</td>\n",
       "      <td>辽宁</td>\n",
       "      <td>大连市旅顺口区塔河湾蓝湾三期施工现场</td>\n",
       "      <td>发生模板坍塌</td>\n",
       "      <td>13.0</td>\n",
       "      <td>4.0</td>\n",
       "      <td>2011</td>\n",
       "      <td>10</td>\n",
       "      <td>8</td>\n",
       "      <td>False</td>\n",
       "      <td>False</td>\n",
       "      <td>NaN</td>\n",
       "      <td>True</td>\n",
       "    </tr>\n",
       "    <tr>\n",
       "      <th>627</th>\n",
       "      <td>2011-12-31</td>\n",
       "      <td>贵州</td>\n",
       "      <td>榕江县至兴华乡摆乔村约</td>\n",
       "      <td>面包翻下路坎</td>\n",
       "      <td>10.0</td>\n",
       "      <td>2.0</td>\n",
       "      <td>2011</td>\n",
       "      <td>12</td>\n",
       "      <td>31</td>\n",
       "      <td>False</td>\n",
       "      <td>False</td>\n",
       "      <td>NaN</td>\n",
       "      <td>True</td>\n",
       "    </tr>\n",
       "    <tr>\n",
       "      <th>644</th>\n",
       "      <td>2012-04-28</td>\n",
       "      <td>云南</td>\n",
       "      <td>临沧市云县</td>\n",
       "      <td>运输车翻车</td>\n",
       "      <td>11.0</td>\n",
       "      <td>9.0</td>\n",
       "      <td>2012</td>\n",
       "      <td>4</td>\n",
       "      <td>28</td>\n",
       "      <td>False</td>\n",
       "      <td>False</td>\n",
       "      <td>NaN</td>\n",
       "      <td>True</td>\n",
       "    </tr>\n",
       "    <tr>\n",
       "      <th>753</th>\n",
       "      <td>2015-10-10</td>\n",
       "      <td>安徽</td>\n",
       "      <td>芜湖市镜湖区</td>\n",
       "      <td>小吃店发生火灾事故</td>\n",
       "      <td>17.0</td>\n",
       "      <td>NaN</td>\n",
       "      <td>2015</td>\n",
       "      <td>10</td>\n",
       "      <td>10</td>\n",
       "      <td>False</td>\n",
       "      <td>False</td>\n",
       "      <td>NaN</td>\n",
       "      <td>True</td>\n",
       "    </tr>\n",
       "    <tr>\n",
       "      <th>846</th>\n",
       "      <td>2019-09-29</td>\n",
       "      <td>浙江</td>\n",
       "      <td>宁海县梅林街道</td>\n",
       "      <td>宁波锐奇日用品公司起火</td>\n",
       "      <td>19.0</td>\n",
       "      <td>NaN</td>\n",
       "      <td>2019</td>\n",
       "      <td>9</td>\n",
       "      <td>29</td>\n",
       "      <td>False</td>\n",
       "      <td>False</td>\n",
       "      <td>NaN</td>\n",
       "      <td>True</td>\n",
       "    </tr>\n",
       "  </tbody>\n",
       "</table>\n",
       "</div>"
      ],
      "text/plain": [
       "          time province                     city     accident  death  injury  \\\n",
       "38  2005-04-30       贵州          纳雍县鬃岭镇乡镇煤矿嫩草冲煤矿         瓦斯爆炸   12.0     NaN   \n",
       "90  2005-10-08       浙江                湖州市开发区九九桥           坠河   22.0     NaN   \n",
       "164 2006-04-29       陕西              延安市子长县瓦窑堡煤矿         瓦斯爆炸   27.0     5.0   \n",
       "165 2006-04-30       陕西        镇安县米粮镇光明村山沟镇安黄金尾矿           溃坝    NaN    22.0   \n",
       "199 2006-09-30      黑龙江             鸡西市鸡东县哈达天龙煤矿         瓦斯爆炸   13.0     NaN   \n",
       "306 2007-12-29      黑龙江              牡丹江市穆棱市顺发煤矿           瓦斯    1.0    20.0   \n",
       "317 2008-02-03       福建              宁德市远洋渔业集团公司           沉船    NaN    12.0   \n",
       "405 2009-02-01      内蒙古   赤峰市喀喇沁旗王爷府镇团结地村路段一交乂道口           相撞   10.0     9.0   \n",
       "538 2010-10-09       江苏  南京市浦口区宁合高速公路454km+100m处       槽罐大客相撞   17.0     6.0   \n",
       "570 2011-04-02       新疆    乌鲁木齐市焦煤集团主焦煤分公司艾维尔沟煤矿         发生冒顶   10.0     NaN   \n",
       "607 2011-10-08       辽宁       大连市旅顺口区塔河湾蓝湾三期施工现场       发生模板坍塌   13.0     4.0   \n",
       "627 2011-12-31       贵州              榕江县至兴华乡摆乔村约       面包翻下路坎   10.0     2.0   \n",
       "644 2012-04-28       云南                    临沧市云县        运输车翻车   11.0     9.0   \n",
       "753 2015-10-10       安徽                   芜湖市镜湖区    小吃店发生火灾事故   17.0     NaN   \n",
       "846 2019-09-29       浙江                  宁海县梅林街道  宁波锐奇日用品公司起火   19.0     NaN   \n",
       "\n",
       "     year  month  day  holiday  weekend  节假日  weekend_work  \n",
       "38   2005      4   30    False    False  NaN          True  \n",
       "90   2005     10    8    False    False  NaN          True  \n",
       "164  2006      4   29    False    False  NaN          True  \n",
       "165  2006      4   30    False    False  NaN          True  \n",
       "199  2006      9   30    False    False  NaN          True  \n",
       "306  2007     12   29    False    False  NaN          True  \n",
       "317  2008      2    3    False    False  NaN          True  \n",
       "405  2009      2    1    False    False  NaN          True  \n",
       "538  2010     10    9    False    False  NaN          True  \n",
       "570  2011      4    2    False    False  NaN          True  \n",
       "607  2011     10    8    False    False  NaN          True  \n",
       "627  2011     12   31    False    False  NaN          True  \n",
       "644  2012      4   28    False    False  NaN          True  \n",
       "753  2015     10   10    False    False  NaN          True  \n",
       "846  2019      9   29    False    False  NaN          True  "
      ]
     },
     "execution_count": 27,
     "metadata": {},
     "output_type": "execute_result"
    }
   ],
   "source": [
    "data['weekend_work'] = data.apply(lambda x: date(x.year,x.month,x.day) in add_work_date, axis = 1)\n",
    "print(len(data[data['weekend_work']== True]))\n",
    "data[data['weekend_work']== True]"
   ]
  },
  {
   "cell_type": "markdown",
   "metadata": {},
   "source": [
    "### 周末和及假日的重大事故情况"
   ]
  },
  {
   "cell_type": "code",
   "execution_count": 28,
   "metadata": {},
   "outputs": [
    {
     "data": {
      "text/plain": [
       "False    629\n",
       "True     224\n",
       "Name: weekend, dtype: int64"
      ]
     },
     "execution_count": 28,
     "metadata": {},
     "output_type": "execute_result"
    }
   ],
   "source": [
    "#周末的事故情况（正常的假期间）\n",
    "data.weekend.value_counts()"
   ]
  },
  {
   "cell_type": "code",
   "execution_count": 29,
   "metadata": {},
   "outputs": [
    {
     "data": {
      "text/plain": [
       "False    789\n",
       "True      64\n",
       "Name: holiday, dtype: int64"
      ]
     },
     "execution_count": 29,
     "metadata": {},
     "output_type": "execute_result"
    }
   ],
   "source": [
    "#节假日的事故情况\n",
    "data.holiday.value_counts()\n",
    "\n",
    "#至此就可以发现工作日与非工作日之间的事故比例"
   ]
  },
  {
   "cell_type": "markdown",
   "metadata": {},
   "source": [
    "### 正常工作日事故次数\n",
    "* 正常工作日事故次数为：总事故数 - 节假日事故数 - 周末休息日事故数 - 调休周末上班日事故数"
   ]
  },
  {
   "cell_type": "code",
   "execution_count": 30,
   "metadata": {},
   "outputs": [
    {
     "data": {
      "text/plain": [
       "550"
      ]
     },
     "execution_count": 30,
     "metadata": {},
     "output_type": "execute_result"
    }
   ],
   "source": [
    "853 - 64 - 224 - 15"
   ]
  },
  {
   "cell_type": "code",
   "execution_count": 31,
   "metadata": {},
   "outputs": [
    {
     "data": {
      "text/plain": [
       "1.7584994138335288"
      ]
     },
     "execution_count": 31,
     "metadata": {},
     "output_type": "execute_result"
    }
   ],
   "source": [
    "15/ 853 * 100"
   ]
  },
  {
   "cell_type": "markdown",
   "metadata": {},
   "source": [
    "## 结果"
   ]
  },
  {
   "cell_type": "markdown",
   "metadata": {},
   "source": [
    "#### ①各时段的事故数量及占比\n",
    "* 节假日发生事故起数： 64  事故占比为： 7.50%\n",
    "* 正常周末休息发生的事故起数为： 224     事故占比为： 26.26%\n",
    "* 因节假日调休周末上班发生的事故起数为： 15   事故占比为： 1.76%\n",
    "* 正常上班发生的事故起数为： 853 - 64 - 224 - 15 = 550  事故占比为： 64.48%"
   ]
  },
  {
   "cell_type": "markdown",
   "metadata": {},
   "source": [
    "#### ② 工作日与非工作日事故占比\n",
    "* 工作日特大事故占比： (550 + 15) / 853 = 66.24%\n",
    "* 非工作日特大事故占比： (224 + 64) / 853 = 33.76%"
   ]
  },
  {
   "cell_type": "markdown",
   "metadata": {},
   "source": [
    "#### ③ 事故率计算\n",
    "按照一年是365天，我国实际节假日是虽然从05年到18年有所变动（实际的有效假日变化不大），有效工作提250天，剩下的就是休息日115天\n",
    "2007年往后将五一长假缩短，添加了端午和中秋（实际有效假日几乎没有发生变化），然后15年增加一个胜利日（这一年是增加一天假）\n",
    "\n",
    "* 平均事故率： 853 / (365*15) = 15.56%\n",
    "* 工作日平均事故率    (550 + 15) / (250*15) = 15.07%\n",
    "* 非工作日平均事故率  (224 + 64) /(115*15) =  16.70%"
   ]
  },
  {
   "cell_type": "code",
   "execution_count": 32,
   "metadata": {},
   "outputs": [
    {
     "data": {
      "text/plain": [
       "0.15579908675799087"
      ]
     },
     "execution_count": 32,
     "metadata": {},
     "output_type": "execute_result"
    }
   ],
   "source": [
    "853 / (365*15)"
   ]
  },
  {
   "cell_type": "code",
   "execution_count": 33,
   "metadata": {},
   "outputs": [
    {
     "data": {
      "text/plain": [
       "0.15066666666666667"
      ]
     },
     "execution_count": 33,
     "metadata": {},
     "output_type": "execute_result"
    }
   ],
   "source": [
    "(550 + 15) / (250*15)"
   ]
  },
  {
   "cell_type": "code",
   "execution_count": 34,
   "metadata": {},
   "outputs": [
    {
     "data": {
      "text/plain": [
       "0.16695652173913045"
      ]
     },
     "execution_count": 34,
     "metadata": {},
     "output_type": "execute_result"
    }
   ],
   "source": [
    "(224 + 64) /(115*15)"
   ]
  },
  {
   "cell_type": "markdown",
   "metadata": {},
   "source": [
    "### 单独看三个“五年之期”的结果\n",
    "假定是按照五年计划，由于2020年没有结束，所以就提前一年"
   ]
  },
  {
   "cell_type": "code",
   "execution_count": 36,
   "metadata": {},
   "outputs": [
    {
     "name": "stdout",
     "output_type": "stream",
     "text": [
      "十一五的事故数量：473\n",
      "十二五的事故数量：263\n",
      "十三五的事故数量：117\n"
     ]
    }
   ],
   "source": [
    "data_11_5 = data[data['year'] < 2010]\n",
    "data_12_5 = data[(2010 <= data['year']) & (data['year']< 2015)]\n",
    "data_13_5 = data[2015 <= data['year']]\n",
    "print('十一五的事故数量：{}'.format(len(data_11_5)))\n",
    "print('十二五的事故数量：{}'.format(len(data_12_5)))\n",
    "print('十三五的事故数量：{}'.format(len(data_13_5)))"
   ]
  },
  {
   "cell_type": "markdown",
   "metadata": {},
   "source": [
    "#### 先看“十一五”"
   ]
  },
  {
   "cell_type": "code",
   "execution_count": 37,
   "metadata": {},
   "outputs": [
    {
     "name": "stdout",
     "output_type": "stream",
     "text": [
      "8\n"
     ]
    },
    {
     "data": {
      "text/html": [
       "<div>\n",
       "<style scoped>\n",
       "    .dataframe tbody tr th:only-of-type {\n",
       "        vertical-align: middle;\n",
       "    }\n",
       "\n",
       "    .dataframe tbody tr th {\n",
       "        vertical-align: top;\n",
       "    }\n",
       "\n",
       "    .dataframe thead th {\n",
       "        text-align: right;\n",
       "    }\n",
       "</style>\n",
       "<table border=\"1\" class=\"dataframe\">\n",
       "  <thead>\n",
       "    <tr style=\"text-align: right;\">\n",
       "      <th></th>\n",
       "      <th>time</th>\n",
       "      <th>province</th>\n",
       "      <th>city</th>\n",
       "      <th>accident</th>\n",
       "      <th>death</th>\n",
       "      <th>injury</th>\n",
       "      <th>year</th>\n",
       "      <th>month</th>\n",
       "      <th>day</th>\n",
       "      <th>holiday</th>\n",
       "      <th>weekend</th>\n",
       "      <th>节假日</th>\n",
       "      <th>weekend_work</th>\n",
       "    </tr>\n",
       "  </thead>\n",
       "  <tbody>\n",
       "    <tr>\n",
       "      <th>38</th>\n",
       "      <td>2005-04-30</td>\n",
       "      <td>贵州</td>\n",
       "      <td>纳雍县鬃岭镇乡镇煤矿嫩草冲煤矿</td>\n",
       "      <td>瓦斯爆炸</td>\n",
       "      <td>12.0</td>\n",
       "      <td>NaN</td>\n",
       "      <td>2005</td>\n",
       "      <td>4</td>\n",
       "      <td>30</td>\n",
       "      <td>False</td>\n",
       "      <td>False</td>\n",
       "      <td>NaN</td>\n",
       "      <td>True</td>\n",
       "    </tr>\n",
       "    <tr>\n",
       "      <th>90</th>\n",
       "      <td>2005-10-08</td>\n",
       "      <td>浙江</td>\n",
       "      <td>湖州市开发区九九桥</td>\n",
       "      <td>坠河</td>\n",
       "      <td>22.0</td>\n",
       "      <td>NaN</td>\n",
       "      <td>2005</td>\n",
       "      <td>10</td>\n",
       "      <td>8</td>\n",
       "      <td>False</td>\n",
       "      <td>False</td>\n",
       "      <td>NaN</td>\n",
       "      <td>True</td>\n",
       "    </tr>\n",
       "    <tr>\n",
       "      <th>164</th>\n",
       "      <td>2006-04-29</td>\n",
       "      <td>陕西</td>\n",
       "      <td>延安市子长县瓦窑堡煤矿</td>\n",
       "      <td>瓦斯爆炸</td>\n",
       "      <td>27.0</td>\n",
       "      <td>5.0</td>\n",
       "      <td>2006</td>\n",
       "      <td>4</td>\n",
       "      <td>29</td>\n",
       "      <td>False</td>\n",
       "      <td>False</td>\n",
       "      <td>NaN</td>\n",
       "      <td>True</td>\n",
       "    </tr>\n",
       "    <tr>\n",
       "      <th>165</th>\n",
       "      <td>2006-04-30</td>\n",
       "      <td>陕西</td>\n",
       "      <td>镇安县米粮镇光明村山沟镇安黄金尾矿</td>\n",
       "      <td>溃坝</td>\n",
       "      <td>NaN</td>\n",
       "      <td>22.0</td>\n",
       "      <td>2006</td>\n",
       "      <td>4</td>\n",
       "      <td>30</td>\n",
       "      <td>False</td>\n",
       "      <td>False</td>\n",
       "      <td>NaN</td>\n",
       "      <td>True</td>\n",
       "    </tr>\n",
       "    <tr>\n",
       "      <th>199</th>\n",
       "      <td>2006-09-30</td>\n",
       "      <td>黑龙江</td>\n",
       "      <td>鸡西市鸡东县哈达天龙煤矿</td>\n",
       "      <td>瓦斯爆炸</td>\n",
       "      <td>13.0</td>\n",
       "      <td>NaN</td>\n",
       "      <td>2006</td>\n",
       "      <td>9</td>\n",
       "      <td>30</td>\n",
       "      <td>False</td>\n",
       "      <td>False</td>\n",
       "      <td>NaN</td>\n",
       "      <td>True</td>\n",
       "    </tr>\n",
       "    <tr>\n",
       "      <th>306</th>\n",
       "      <td>2007-12-29</td>\n",
       "      <td>黑龙江</td>\n",
       "      <td>牡丹江市穆棱市顺发煤矿</td>\n",
       "      <td>瓦斯</td>\n",
       "      <td>1.0</td>\n",
       "      <td>20.0</td>\n",
       "      <td>2007</td>\n",
       "      <td>12</td>\n",
       "      <td>29</td>\n",
       "      <td>False</td>\n",
       "      <td>False</td>\n",
       "      <td>NaN</td>\n",
       "      <td>True</td>\n",
       "    </tr>\n",
       "    <tr>\n",
       "      <th>317</th>\n",
       "      <td>2008-02-03</td>\n",
       "      <td>福建</td>\n",
       "      <td>宁德市远洋渔业集团公司</td>\n",
       "      <td>沉船</td>\n",
       "      <td>NaN</td>\n",
       "      <td>12.0</td>\n",
       "      <td>2008</td>\n",
       "      <td>2</td>\n",
       "      <td>3</td>\n",
       "      <td>False</td>\n",
       "      <td>False</td>\n",
       "      <td>NaN</td>\n",
       "      <td>True</td>\n",
       "    </tr>\n",
       "    <tr>\n",
       "      <th>405</th>\n",
       "      <td>2009-02-01</td>\n",
       "      <td>内蒙古</td>\n",
       "      <td>赤峰市喀喇沁旗王爷府镇团结地村路段一交乂道口</td>\n",
       "      <td>相撞</td>\n",
       "      <td>10.0</td>\n",
       "      <td>9.0</td>\n",
       "      <td>2009</td>\n",
       "      <td>2</td>\n",
       "      <td>1</td>\n",
       "      <td>False</td>\n",
       "      <td>False</td>\n",
       "      <td>NaN</td>\n",
       "      <td>True</td>\n",
       "    </tr>\n",
       "  </tbody>\n",
       "</table>\n",
       "</div>"
      ],
      "text/plain": [
       "          time province                    city accident  death  injury  year  \\\n",
       "38  2005-04-30       贵州         纳雍县鬃岭镇乡镇煤矿嫩草冲煤矿     瓦斯爆炸   12.0     NaN  2005   \n",
       "90  2005-10-08       浙江               湖州市开发区九九桥       坠河   22.0     NaN  2005   \n",
       "164 2006-04-29       陕西             延安市子长县瓦窑堡煤矿     瓦斯爆炸   27.0     5.0  2006   \n",
       "165 2006-04-30       陕西       镇安县米粮镇光明村山沟镇安黄金尾矿       溃坝    NaN    22.0  2006   \n",
       "199 2006-09-30      黑龙江            鸡西市鸡东县哈达天龙煤矿     瓦斯爆炸   13.0     NaN  2006   \n",
       "306 2007-12-29      黑龙江             牡丹江市穆棱市顺发煤矿       瓦斯    1.0    20.0  2007   \n",
       "317 2008-02-03       福建             宁德市远洋渔业集团公司       沉船    NaN    12.0  2008   \n",
       "405 2009-02-01      内蒙古  赤峰市喀喇沁旗王爷府镇团结地村路段一交乂道口       相撞   10.0     9.0  2009   \n",
       "\n",
       "     month  day  holiday  weekend  节假日  weekend_work  \n",
       "38       4   30    False    False  NaN          True  \n",
       "90      10    8    False    False  NaN          True  \n",
       "164      4   29    False    False  NaN          True  \n",
       "165      4   30    False    False  NaN          True  \n",
       "199      9   30    False    False  NaN          True  \n",
       "306     12   29    False    False  NaN          True  \n",
       "317      2    3    False    False  NaN          True  \n",
       "405      2    1    False    False  NaN          True  "
      ]
     },
     "execution_count": 37,
     "metadata": {},
     "output_type": "execute_result"
    }
   ],
   "source": [
    "print(len(data_11_5[data_11_5['weekend_work']== True]))\n",
    "data_11_5[data_11_5['weekend_work']== True]\n",
    "#因调休周末上班发生的事故：8"
   ]
  },
  {
   "cell_type": "code",
   "execution_count": 38,
   "metadata": {},
   "outputs": [
    {
     "data": {
      "text/plain": [
       "False    355\n",
       "True     118\n",
       "Name: weekend, dtype: int64"
      ]
     },
     "execution_count": 38,
     "metadata": {},
     "output_type": "execute_result"
    }
   ],
   "source": [
    "#周末的事故情况（正常的假期间）\n",
    "data_11_5.weekend.value_counts()"
   ]
  },
  {
   "cell_type": "code",
   "execution_count": 39,
   "metadata": {},
   "outputs": [
    {
     "data": {
      "text/plain": [
       "False    436\n",
       "True      37\n",
       "Name: holiday, dtype: int64"
      ]
     },
     "execution_count": 39,
     "metadata": {},
     "output_type": "execute_result"
    }
   ],
   "source": [
    "#节假日的事故情况\n",
    "data_11_5.holiday.value_counts()\n",
    "\n",
    "#至此就可以发现工作日与非工作日之间的事故比例"
   ]
  },
  {
   "cell_type": "code",
   "execution_count": 40,
   "metadata": {},
   "outputs": [
    {
     "data": {
      "text/plain": [
       "310"
      ]
     },
     "execution_count": 40,
     "metadata": {},
     "output_type": "execute_result"
    }
   ],
   "source": [
    "# 正常工作日事故次数 \n",
    "473 - 118 - 37 - 8"
   ]
  },
  {
   "cell_type": "markdown",
   "metadata": {},
   "source": [
    "### “十一五”安全生产特大事故情况\n",
    "#### ①各时段的事故数量及占比\n",
    "* 节假日发生事故起数： 37  事故占比为： 7.82%\n",
    "* 正常周末休息发生的事故起数为： 118    事故占比为： 24.95%\n",
    "* 因节假日调休周末上班发生的事故起数为： 8   事故占比为： 1.69%\n",
    "* 正常上班发生的事故起数为： 473 - 118 - 37 - 8= 310  事故占比为： 65.54%\n",
    "#### ② 工作日与非工作日事故占比\n",
    "* 工作日特大事故占比： (310 + 8) / 473 = 67.23%\n",
    "* 非工作日特大事故占比： (118 + 37) / 473 = 32.77%\n",
    "#### ③ 事故率计算\n",
    "\n",
    "* 平均事故率： 473 / (365*5) = 25.92%\n",
    "* 工作日平均事故率 (310 + 8)  / (250*5) = 25.44%\n",
    "* 非工作日平均事故率 (118 + 37)  /(115*5) = 26.96%"
   ]
  },
  {
   "cell_type": "code",
   "execution_count": 41,
   "metadata": {},
   "outputs": [
    {
     "data": {
      "text/plain": [
       "0.25917808219178085"
      ]
     },
     "execution_count": 41,
     "metadata": {},
     "output_type": "execute_result"
    }
   ],
   "source": [
    "473 / (365*5)"
   ]
  },
  {
   "cell_type": "code",
   "execution_count": 42,
   "metadata": {},
   "outputs": [
    {
     "data": {
      "text/plain": [
       "0.2544"
      ]
     },
     "execution_count": 42,
     "metadata": {},
     "output_type": "execute_result"
    }
   ],
   "source": [
    "(310 + 8)  / (250*5)"
   ]
  },
  {
   "cell_type": "code",
   "execution_count": 43,
   "metadata": {},
   "outputs": [
    {
     "data": {
      "text/plain": [
       "0.26956521739130435"
      ]
     },
     "execution_count": 43,
     "metadata": {},
     "output_type": "execute_result"
    }
   ],
   "source": [
    "(118 + 37)  /(115*5)"
   ]
  },
  {
   "cell_type": "markdown",
   "metadata": {},
   "source": [
    "#### 再看十二五的情况"
   ]
  },
  {
   "cell_type": "code",
   "execution_count": 44,
   "metadata": {},
   "outputs": [
    {
     "name": "stdout",
     "output_type": "stream",
     "text": [
      "5\n"
     ]
    },
    {
     "data": {
      "text/html": [
       "<div>\n",
       "<style scoped>\n",
       "    .dataframe tbody tr th:only-of-type {\n",
       "        vertical-align: middle;\n",
       "    }\n",
       "\n",
       "    .dataframe tbody tr th {\n",
       "        vertical-align: top;\n",
       "    }\n",
       "\n",
       "    .dataframe thead th {\n",
       "        text-align: right;\n",
       "    }\n",
       "</style>\n",
       "<table border=\"1\" class=\"dataframe\">\n",
       "  <thead>\n",
       "    <tr style=\"text-align: right;\">\n",
       "      <th></th>\n",
       "      <th>time</th>\n",
       "      <th>province</th>\n",
       "      <th>city</th>\n",
       "      <th>accident</th>\n",
       "      <th>death</th>\n",
       "      <th>injury</th>\n",
       "      <th>year</th>\n",
       "      <th>month</th>\n",
       "      <th>day</th>\n",
       "      <th>holiday</th>\n",
       "      <th>weekend</th>\n",
       "      <th>节假日</th>\n",
       "      <th>weekend_work</th>\n",
       "    </tr>\n",
       "  </thead>\n",
       "  <tbody>\n",
       "    <tr>\n",
       "      <th>538</th>\n",
       "      <td>2010-10-09</td>\n",
       "      <td>江苏</td>\n",
       "      <td>南京市浦口区宁合高速公路454km+100m处</td>\n",
       "      <td>槽罐大客相撞</td>\n",
       "      <td>17.0</td>\n",
       "      <td>6.0</td>\n",
       "      <td>2010</td>\n",
       "      <td>10</td>\n",
       "      <td>9</td>\n",
       "      <td>False</td>\n",
       "      <td>False</td>\n",
       "      <td>NaN</td>\n",
       "      <td>True</td>\n",
       "    </tr>\n",
       "    <tr>\n",
       "      <th>570</th>\n",
       "      <td>2011-04-02</td>\n",
       "      <td>新疆</td>\n",
       "      <td>乌鲁木齐市焦煤集团主焦煤分公司艾维尔沟煤矿</td>\n",
       "      <td>发生冒顶</td>\n",
       "      <td>10.0</td>\n",
       "      <td>NaN</td>\n",
       "      <td>2011</td>\n",
       "      <td>4</td>\n",
       "      <td>2</td>\n",
       "      <td>False</td>\n",
       "      <td>False</td>\n",
       "      <td>NaN</td>\n",
       "      <td>True</td>\n",
       "    </tr>\n",
       "    <tr>\n",
       "      <th>607</th>\n",
       "      <td>2011-10-08</td>\n",
       "      <td>辽宁</td>\n",
       "      <td>大连市旅顺口区塔河湾蓝湾三期施工现场</td>\n",
       "      <td>发生模板坍塌</td>\n",
       "      <td>13.0</td>\n",
       "      <td>4.0</td>\n",
       "      <td>2011</td>\n",
       "      <td>10</td>\n",
       "      <td>8</td>\n",
       "      <td>False</td>\n",
       "      <td>False</td>\n",
       "      <td>NaN</td>\n",
       "      <td>True</td>\n",
       "    </tr>\n",
       "    <tr>\n",
       "      <th>627</th>\n",
       "      <td>2011-12-31</td>\n",
       "      <td>贵州</td>\n",
       "      <td>榕江县至兴华乡摆乔村约</td>\n",
       "      <td>面包翻下路坎</td>\n",
       "      <td>10.0</td>\n",
       "      <td>2.0</td>\n",
       "      <td>2011</td>\n",
       "      <td>12</td>\n",
       "      <td>31</td>\n",
       "      <td>False</td>\n",
       "      <td>False</td>\n",
       "      <td>NaN</td>\n",
       "      <td>True</td>\n",
       "    </tr>\n",
       "    <tr>\n",
       "      <th>644</th>\n",
       "      <td>2012-04-28</td>\n",
       "      <td>云南</td>\n",
       "      <td>临沧市云县</td>\n",
       "      <td>运输车翻车</td>\n",
       "      <td>11.0</td>\n",
       "      <td>9.0</td>\n",
       "      <td>2012</td>\n",
       "      <td>4</td>\n",
       "      <td>28</td>\n",
       "      <td>False</td>\n",
       "      <td>False</td>\n",
       "      <td>NaN</td>\n",
       "      <td>True</td>\n",
       "    </tr>\n",
       "  </tbody>\n",
       "</table>\n",
       "</div>"
      ],
      "text/plain": [
       "          time province                     city accident  death  injury  \\\n",
       "538 2010-10-09       江苏  南京市浦口区宁合高速公路454km+100m处   槽罐大客相撞   17.0     6.0   \n",
       "570 2011-04-02       新疆    乌鲁木齐市焦煤集团主焦煤分公司艾维尔沟煤矿     发生冒顶   10.0     NaN   \n",
       "607 2011-10-08       辽宁       大连市旅顺口区塔河湾蓝湾三期施工现场   发生模板坍塌   13.0     4.0   \n",
       "627 2011-12-31       贵州              榕江县至兴华乡摆乔村约   面包翻下路坎   10.0     2.0   \n",
       "644 2012-04-28       云南                    临沧市云县    运输车翻车   11.0     9.0   \n",
       "\n",
       "     year  month  day  holiday  weekend  节假日  weekend_work  \n",
       "538  2010     10    9    False    False  NaN          True  \n",
       "570  2011      4    2    False    False  NaN          True  \n",
       "607  2011     10    8    False    False  NaN          True  \n",
       "627  2011     12   31    False    False  NaN          True  \n",
       "644  2012      4   28    False    False  NaN          True  "
      ]
     },
     "execution_count": 44,
     "metadata": {},
     "output_type": "execute_result"
    }
   ],
   "source": [
    "print(len(data_12_5[data_12_5['weekend_work']== True]))\n",
    "data_12_5[data_12_5['weekend_work']== True]\n",
    "#因调休周末上班发生的事故：5"
   ]
  },
  {
   "cell_type": "code",
   "execution_count": 45,
   "metadata": {},
   "outputs": [
    {
     "data": {
      "text/plain": [
       "False    188\n",
       "True      75\n",
       "Name: weekend, dtype: int64"
      ]
     },
     "execution_count": 45,
     "metadata": {},
     "output_type": "execute_result"
    }
   ],
   "source": [
    "#周末的事故情况（正常的假期间）\n",
    "data_12_5.weekend.value_counts()"
   ]
  },
  {
   "cell_type": "code",
   "execution_count": 46,
   "metadata": {},
   "outputs": [
    {
     "data": {
      "text/plain": [
       "False    242\n",
       "True      21\n",
       "Name: holiday, dtype: int64"
      ]
     },
     "execution_count": 46,
     "metadata": {},
     "output_type": "execute_result"
    }
   ],
   "source": [
    "#节假日的事故情况\n",
    "data_12_5.holiday.value_counts()\n",
    "\n",
    "#至此就可以发现工作日与非工作日之间的事故比例"
   ]
  },
  {
   "cell_type": "code",
   "execution_count": 47,
   "metadata": {},
   "outputs": [
    {
     "data": {
      "text/plain": [
       "162"
      ]
     },
     "execution_count": 47,
     "metadata": {},
     "output_type": "execute_result"
    }
   ],
   "source": [
    "# 正常工作日事故次数 \n",
    "263 - 75 - 21 - 5"
   ]
  },
  {
   "cell_type": "markdown",
   "metadata": {},
   "source": [
    "#### ①各时段的事故数量及占比\n",
    "* 节假日发生事故起数： 6 事故占比为： 5.13%\n",
    "* 正常周末休息发生的事故起数为： 31 事故占比为： 26.50%\n",
    "* 因节假日调休周末上班发生的事故起数为： 2 事故占比为： 1.71%\n",
    "* 正常上班发生的事故起数为： 117 - 31 - 6 - 2 = 78 事故占比为： 66.67%\n",
    "\n",
    "#### ② 工作日与非工作日事故占比\n",
    "* 工作日特大事故占比： (78 + 2) / 117 = 68.38%\n",
    "* 非工作日特大事故占比： (31 + 6) / 117 = 31.62%\n",
    "\n",
    "#### ③ 事故率计算\n",
    "按照一年是365天，我国实际节假日是虽然从05年到19年有所变动（实际的有效假日变化不大），有效工作提250天，剩下的就是休息日115天 2007年往后将五一长假缩短，添加了端午和中秋（实际有效假日几乎没有发生变化），然后15年增加一个胜利日（这一年是增加一天假）\n",
    "\n",
    "* 平均事故率： 116 / (365*5) = 6.41%\n",
    "* 工作日平均事故率 (78 + 2) / (250*5) = 6.40%\n",
    "* 非工作日平均事故率 (31 + 6) /(115*5) = 6.43%"
   ]
  },
  {
   "cell_type": "code",
   "execution_count": 48,
   "metadata": {},
   "outputs": [
    {
     "data": {
      "text/plain": [
       "0.05128205128205128"
      ]
     },
     "execution_count": 48,
     "metadata": {},
     "output_type": "execute_result"
    }
   ],
   "source": [
    "6/117"
   ]
  },
  {
   "cell_type": "code",
   "execution_count": 49,
   "metadata": {},
   "outputs": [
    {
     "data": {
      "text/plain": [
       "66.66666666666666"
      ]
     },
     "execution_count": 49,
     "metadata": {},
     "output_type": "execute_result"
    }
   ],
   "source": [
    "78 / 117 *100"
   ]
  },
  {
   "cell_type": "code",
   "execution_count": 50,
   "metadata": {},
   "outputs": [
    {
     "data": {
      "text/plain": [
       "68.37606837606837"
      ]
     },
     "execution_count": 50,
     "metadata": {},
     "output_type": "execute_result"
    }
   ],
   "source": [
    "(78 + 2) / 117 * 100"
   ]
  },
  {
   "cell_type": "code",
   "execution_count": 51,
   "metadata": {},
   "outputs": [
    {
     "data": {
      "text/plain": [
       "31.62393162393162"
      ]
     },
     "execution_count": 51,
     "metadata": {},
     "output_type": "execute_result"
    }
   ],
   "source": [
    "(31 + 6) / 117 * 100"
   ]
  },
  {
   "cell_type": "code",
   "execution_count": 52,
   "metadata": {},
   "outputs": [
    {
     "data": {
      "text/plain": [
       "6.410958904109589"
      ]
     },
     "execution_count": 52,
     "metadata": {},
     "output_type": "execute_result"
    }
   ],
   "source": [
    "117 / (365*5) *100"
   ]
  },
  {
   "cell_type": "code",
   "execution_count": 53,
   "metadata": {},
   "outputs": [
    {
     "data": {
      "text/plain": [
       "6.4"
      ]
     },
     "execution_count": 53,
     "metadata": {},
     "output_type": "execute_result"
    }
   ],
   "source": [
    "(78 + 2) / (250*5) * 100"
   ]
  },
  {
   "cell_type": "code",
   "execution_count": 54,
   "metadata": {},
   "outputs": [
    {
     "data": {
      "text/plain": [
       "6.434782608695652"
      ]
     },
     "execution_count": 54,
     "metadata": {},
     "output_type": "execute_result"
    }
   ],
   "source": [
    "(31 + 6) /(115*5) * 100"
   ]
  },
  {
   "cell_type": "markdown",
   "metadata": {},
   "source": [
    "### 绘制变化图"
   ]
  },
  {
   "cell_type": "code",
   "execution_count": 55,
   "metadata": {},
   "outputs": [
    {
     "data": {
      "text/html": [
       "<div>\n",
       "<style scoped>\n",
       "    .dataframe tbody tr th:only-of-type {\n",
       "        vertical-align: middle;\n",
       "    }\n",
       "\n",
       "    .dataframe tbody tr th {\n",
       "        vertical-align: top;\n",
       "    }\n",
       "\n",
       "    .dataframe thead th {\n",
       "        text-align: right;\n",
       "    }\n",
       "</style>\n",
       "<table border=\"1\" class=\"dataframe\">\n",
       "  <thead>\n",
       "    <tr style=\"text-align: right;\">\n",
       "      <th></th>\n",
       "      <th>2005-2009</th>\n",
       "      <th>2010-2014</th>\n",
       "      <th>2015-2019</th>\n",
       "      <th>2005-2019</th>\n",
       "    </tr>\n",
       "  </thead>\n",
       "  <tbody>\n",
       "    <tr>\n",
       "      <th>节假日</th>\n",
       "      <td>37</td>\n",
       "      <td>21</td>\n",
       "      <td>6</td>\n",
       "      <td>64</td>\n",
       "    </tr>\n",
       "    <tr>\n",
       "      <th>周末</th>\n",
       "      <td>118</td>\n",
       "      <td>75</td>\n",
       "      <td>31</td>\n",
       "      <td>224</td>\n",
       "    </tr>\n",
       "    <tr>\n",
       "      <th>调休加班</th>\n",
       "      <td>8</td>\n",
       "      <td>5</td>\n",
       "      <td>2</td>\n",
       "      <td>15</td>\n",
       "    </tr>\n",
       "    <tr>\n",
       "      <th>上班</th>\n",
       "      <td>310</td>\n",
       "      <td>162</td>\n",
       "      <td>78</td>\n",
       "      <td>550</td>\n",
       "    </tr>\n",
       "  </tbody>\n",
       "</table>\n",
       "</div>"
      ],
      "text/plain": [
       "      2005-2009  2010-2014  2015-2019  2005-2019\n",
       "节假日          37         21          6         64\n",
       "周末          118         75         31        224\n",
       "调休加班          8          5          2         15\n",
       "上班          310        162         78        550"
      ]
     },
     "execution_count": 55,
     "metadata": {},
     "output_type": "execute_result"
    }
   ],
   "source": [
    "data_finnal = pd.DataFrame({\"2005-2009\":[37,118,8,310],\n",
    "                            \"2010-2014\":[21,75,5,162],\n",
    "                           \"2015-2019\":[6,31,2,78],\n",
    "                           \"2005-2019\":[64,224,15,550]},index = ['节假日','周末','调休加班','上班'])\n",
    "data_finnal"
   ]
  },
  {
   "cell_type": "code",
   "execution_count": 58,
   "metadata": {},
   "outputs": [],
   "source": [
    "def percentage_bar(df):\n",
    "    labels = df.index.tolist() #提取分类显示标签\n",
    "    results = df.to_dict(orient = 'list') #将数值结果转化为字典\n",
    "    category_names = list(results.keys()) # 提取字典里面的类别（键-key）\n",
    "    data = np.array(list(results.values())) #提取字典里面的数值（值-value）\n",
    "\n",
    "    category_colors = plt.get_cmap('Blues')(np.linspace(0.15, 0.85, data.shape[0])) \n",
    "    #设置占比显示的颜色，可以自定义，修改括号里面的参数即可，如下\n",
    "    #category_colors = plt.get_cmap('hot')(np.linspace(0.15, 0.85, data.shape[0]))\n",
    "\n",
    "    fig, ax = plt.subplots(figsize=(12, 9)) #创建画布，开始绘图\n",
    "    ax.invert_xaxis()#这个可以通过设置df中columns的顺序调整\n",
    "    ax.yaxis.set_visible(False) #设置y轴刻度不可见\n",
    "    ax.set_xticklabels(labels=labels, rotation=90) #显示x轴标签，并旋转90度\n",
    "    ax.set_ylim(0,1) #设置y轴的显示范围\n",
    "    starts = 0  #绘制基准\n",
    "    for i, (colname, color) in enumerate(zip(category_names, category_colors)):\n",
    "        heights = data[i,: ]/ data.sum(axis =0) #计算出每次遍历时候的百分比\n",
    "        ax.bar(labels, heights, bottom=starts, width=0.5,label=colname, color=color,edgecolor ='black') # 绘制柱状图\n",
    "        xcenters = starts + heights/2  #进行文本标记位置的选定\n",
    "        starts += heights  #核心一步，就是基于基准上的百分比累加\n",
    "        #print(starts) 这个变量就是能否百分比显示的关键，可以打印输出看一下\n",
    "        percentage_text = data[i,: ]/ data.sum(axis =0) #文本标记的数据\n",
    "        \n",
    "        r, g, b, _ = color  # 这里进行像素的分割\n",
    "        text_color = 'white' if r * g * b < 0.5 else 'k'  #根据颜色基调分配文本标记的颜色\n",
    "        for y, (x, c) in enumerate(zip(xcenters, percentage_text)):\n",
    "#             print(c,data.sum(axis =0)[y],c*data.sum(axis =0)[y])\n",
    "            num = \"{:.0f}\".format(c*data.sum(axis =0)[y])\n",
    "            ax.text(y, x, f'{round(c*100,2)}%({num})', ha='center', va='center',\n",
    "                    color=text_color, rotation = 0) #添加文本标记\n",
    "    ax.legend(ncol=len(category_names), bbox_to_anchor=(-0.1, 1,1,0.1),\n",
    "              loc='upper', fontsize='xx-large') #设置图例\n",
    "    return fig, ax  "
   ]
  },
  {
   "cell_type": "code",
   "execution_count": 60,
   "metadata": {},
   "outputs": [
    {
     "data": {
      "image/png": "[encoded data removed]",
      "text/plain": [
       "<Figure size 864x648 with 1 Axes>"
      ]
     },
     "metadata": {
      "needs_background": "light"
     },
     "output_type": "display_data"
    }
   ],
   "source": [
    "percentage_bar(data_finnal[data_finnal.columns[::-1]].T)\n",
    "plt.xticks(rotation = 0)\n",
    "ax = plt.gca()\n",
    "ax.spines['top'].set_visible(False)\n",
    "# ax.spines['bottom'].set_visible(False)\n",
    "ax.spines['left'].set_visible(False)\n",
    "ax.spines['right'].set_visible(False)\n",
    "plt.grid(False)\n",
    "plt.xlabel('特大事故统计年限')\n",
    "plt.savefig(r'C:\\Users\\86177\\Desktop\\2005-2019年安全事故统计论文\\img\\9.png',dpi =200)"
   ]
  },
  {
   "cell_type": "code",
   "execution_count": 61,
   "metadata": {},
   "outputs": [
    {
     "data": {
      "text/html": [
       "<div>\n",
       "<style scoped>\n",
       "    .dataframe tbody tr th:only-of-type {\n",
       "        vertical-align: middle;\n",
       "    }\n",
       "\n",
       "    .dataframe tbody tr th {\n",
       "        vertical-align: top;\n",
       "    }\n",
       "\n",
       "    .dataframe thead th {\n",
       "        text-align: right;\n",
       "    }\n",
       "</style>\n",
       "<table border=\"1\" class=\"dataframe\">\n",
       "  <thead>\n",
       "    <tr style=\"text-align: right;\">\n",
       "      <th></th>\n",
       "      <th>2005-2009</th>\n",
       "      <th>2010-2014</th>\n",
       "      <th>2015-2019</th>\n",
       "      <th>2005-2019</th>\n",
       "    </tr>\n",
       "  </thead>\n",
       "  <tbody>\n",
       "    <tr>\n",
       "      <th>平均事故率/%</th>\n",
       "      <td>25.92</td>\n",
       "      <td>14.41</td>\n",
       "      <td>6.41</td>\n",
       "      <td>15.56</td>\n",
       "    </tr>\n",
       "    <tr>\n",
       "      <th>工作日平均事故率/%</th>\n",
       "      <td>25.44</td>\n",
       "      <td>13.36</td>\n",
       "      <td>6.40</td>\n",
       "      <td>15.07</td>\n",
       "    </tr>\n",
       "    <tr>\n",
       "      <th>非工作日平均事故率/%</th>\n",
       "      <td>26.96</td>\n",
       "      <td>16.70</td>\n",
       "      <td>6.43</td>\n",
       "      <td>16.70</td>\n",
       "    </tr>\n",
       "  </tbody>\n",
       "</table>\n",
       "</div>"
      ],
      "text/plain": [
       "             2005-2009  2010-2014  2015-2019  2005-2019\n",
       "平均事故率/%          25.92      14.41       6.41      15.56\n",
       "工作日平均事故率/%       25.44      13.36       6.40      15.07\n",
       "非工作日平均事故率/%      26.96      16.70       6.43      16.70"
      ]
     },
     "execution_count": 61,
     "metadata": {},
     "output_type": "execute_result"
    }
   ],
   "source": [
    "#再看相对指标\n",
    "data_1 = pd.DataFrame({\"2005-2009\":[25.92,25.44,26.96],\n",
    "                       \"2010-2014\":[14.41,13.36,16.70],\n",
    "                       \"2015-2019\":[6.41,6.40,6.43],\n",
    "                      \"2005-2019\":[15.56,15.07,16.70]},\n",
    "                      index = [\"平均事故率/%\",\"工作日平均事故率/%\",\"非工作日平均事故率/%\"])\n",
    "data_1"
   ]
  },
  {
   "cell_type": "code",
   "execution_count": 64,
   "metadata": {},
   "outputs": [
    {
     "data": {
      "text/plain": [
       "<matplotlib.axes._subplots.AxesSubplot at 0x1a170f49280>"
      ]
     },
     "execution_count": 64,
     "metadata": {},
     "output_type": "execute_result"
    },
    {
     "data": {
      "image/png": "[encoded data removed]",
      "text/plain": [
       "<Figure size 864x576 with 1 Axes>"
      ]
     },
     "metadata": {
      "needs_background": "light"
     },
     "output_type": "display_data"
    }
   ],
   "source": [
    "data_1[data_1.columns[:-1]].T.plot(figsize = (12,8))"
   ]
  },
  {
   "cell_type": "markdown",
   "metadata": {},
   "source": [
    "### 具体的是有哪些节假日容易发生事故呢？"
   ]
  },
  {
   "cell_type": "code",
   "execution_count": 65,
   "metadata": {},
   "outputs": [
    {
     "data": {
      "text/plain": [
       "国庆节    23\n",
       "劳动节    14\n",
       "春节     13\n",
       "清明节     5\n",
       "端午节     5\n",
       "元旦      2\n",
       "中秋节     2\n",
       "Name: 节假日, dtype: int64"
      ]
     },
     "execution_count": 65,
     "metadata": {},
     "output_type": "execute_result"
    }
   ],
   "source": [
    "data['节假日'].value_counts()"
   ]
  },
  {
   "cell_type": "code",
   "execution_count": 66,
   "metadata": {},
   "outputs": [
    {
     "data": {
      "text/html": [
       "<div>\n",
       "<style scoped>\n",
       "    .dataframe tbody tr th:only-of-type {\n",
       "        vertical-align: middle;\n",
       "    }\n",
       "\n",
       "    .dataframe tbody tr th {\n",
       "        vertical-align: top;\n",
       "    }\n",
       "\n",
       "    .dataframe thead th {\n",
       "        text-align: right;\n",
       "    }\n",
       "</style>\n",
       "<table border=\"1\" class=\"dataframe\">\n",
       "  <thead>\n",
       "    <tr style=\"text-align: right;\">\n",
       "      <th></th>\n",
       "      <th>time</th>\n",
       "      <th>province</th>\n",
       "      <th>city</th>\n",
       "      <th>accident</th>\n",
       "      <th>death</th>\n",
       "      <th>injury</th>\n",
       "      <th>year</th>\n",
       "      <th>month</th>\n",
       "      <th>day</th>\n",
       "      <th>holiday</th>\n",
       "      <th>weekend</th>\n",
       "      <th>节假日</th>\n",
       "      <th>weekend_work</th>\n",
       "    </tr>\n",
       "  </thead>\n",
       "  <tbody>\n",
       "    <tr>\n",
       "      <th>85</th>\n",
       "      <td>2005-10-03</td>\n",
       "      <td>河南</td>\n",
       "      <td>鹤壁市煤业集团二矿 38 煤柱工作面采空区</td>\n",
       "      <td>瓦斯爆炸</td>\n",
       "      <td>34.0</td>\n",
       "      <td>19.0</td>\n",
       "      <td>2005</td>\n",
       "      <td>10</td>\n",
       "      <td>3</td>\n",
       "      <td>True</td>\n",
       "      <td>False</td>\n",
       "      <td>国庆节</td>\n",
       "      <td>False</td>\n",
       "    </tr>\n",
       "    <tr>\n",
       "      <th>86</th>\n",
       "      <td>2005-10-04</td>\n",
       "      <td>四川</td>\n",
       "      <td>广安市广安区境内四川煤炭产业集团公司所属广能集团龙滩煤矿</td>\n",
       "      <td>透水</td>\n",
       "      <td>28.0</td>\n",
       "      <td>NaN</td>\n",
       "      <td>2005</td>\n",
       "      <td>10</td>\n",
       "      <td>4</td>\n",
       "      <td>True</td>\n",
       "      <td>False</td>\n",
       "      <td>国庆节</td>\n",
       "      <td>False</td>\n",
       "    </tr>\n",
       "    <tr>\n",
       "      <th>87</th>\n",
       "      <td>2005-10-04</td>\n",
       "      <td>新疆</td>\n",
       "      <td>拜城县亚吐尔乡煤矿 1 号井</td>\n",
       "      <td>瓦斯爆炸</td>\n",
       "      <td>14.0</td>\n",
       "      <td>NaN</td>\n",
       "      <td>2005</td>\n",
       "      <td>10</td>\n",
       "      <td>4</td>\n",
       "      <td>True</td>\n",
       "      <td>False</td>\n",
       "      <td>国庆节</td>\n",
       "      <td>False</td>\n",
       "    </tr>\n",
       "    <tr>\n",
       "      <th>88</th>\n",
       "      <td>2005-10-04</td>\n",
       "      <td>广西</td>\n",
       "      <td>田林县境内田林县利周乡</td>\n",
       "      <td>坠沟</td>\n",
       "      <td>11.0</td>\n",
       "      <td>29.0</td>\n",
       "      <td>2005</td>\n",
       "      <td>10</td>\n",
       "      <td>4</td>\n",
       "      <td>True</td>\n",
       "      <td>False</td>\n",
       "      <td>国庆节</td>\n",
       "      <td>False</td>\n",
       "    </tr>\n",
       "    <tr>\n",
       "      <th>89</th>\n",
       "      <td>2005-10-04</td>\n",
       "      <td>甘肃</td>\n",
       "      <td>陇南市成县化垭乡开往县城成康路</td>\n",
       "      <td>坠崖</td>\n",
       "      <td>15.0</td>\n",
       "      <td>27.0</td>\n",
       "      <td>2005</td>\n",
       "      <td>10</td>\n",
       "      <td>4</td>\n",
       "      <td>True</td>\n",
       "      <td>False</td>\n",
       "      <td>国庆节</td>\n",
       "      <td>False</td>\n",
       "    </tr>\n",
       "    <tr>\n",
       "      <th>200</th>\n",
       "      <td>2006-10-01</td>\n",
       "      <td>重庆</td>\n",
       "      <td>沙坪坝区嘉陵江石门大桥引桥</td>\n",
       "      <td>坠桥</td>\n",
       "      <td>30.0</td>\n",
       "      <td>20.0</td>\n",
       "      <td>2006</td>\n",
       "      <td>10</td>\n",
       "      <td>1</td>\n",
       "      <td>True</td>\n",
       "      <td>False</td>\n",
       "      <td>国庆节</td>\n",
       "      <td>False</td>\n",
       "    </tr>\n",
       "    <tr>\n",
       "      <th>201</th>\n",
       "      <td>2006-10-05</td>\n",
       "      <td>新疆</td>\n",
       "      <td>库车县314 国道</td>\n",
       "      <td>追尾</td>\n",
       "      <td>10.0</td>\n",
       "      <td>3.0</td>\n",
       "      <td>2006</td>\n",
       "      <td>10</td>\n",
       "      <td>5</td>\n",
       "      <td>True</td>\n",
       "      <td>False</td>\n",
       "      <td>国庆节</td>\n",
       "      <td>False</td>\n",
       "    </tr>\n",
       "    <tr>\n",
       "      <th>202</th>\n",
       "      <td>2006-10-06</td>\n",
       "      <td>四川</td>\n",
       "      <td>宜宾市芙蓉煤矿</td>\n",
       "      <td>瓦斯爆炸</td>\n",
       "      <td>13.0</td>\n",
       "      <td>7.0</td>\n",
       "      <td>2006</td>\n",
       "      <td>10</td>\n",
       "      <td>6</td>\n",
       "      <td>True</td>\n",
       "      <td>False</td>\n",
       "      <td>国庆节</td>\n",
       "      <td>False</td>\n",
       "    </tr>\n",
       "    <tr>\n",
       "      <th>280</th>\n",
       "      <td>2007-10-01</td>\n",
       "      <td>湖南</td>\n",
       "      <td>常德市桃源县</td>\n",
       "      <td>翻车</td>\n",
       "      <td>11.0</td>\n",
       "      <td>NaN</td>\n",
       "      <td>2007</td>\n",
       "      <td>10</td>\n",
       "      <td>1</td>\n",
       "      <td>True</td>\n",
       "      <td>False</td>\n",
       "      <td>国庆节</td>\n",
       "      <td>False</td>\n",
       "    </tr>\n",
       "    <tr>\n",
       "      <th>281</th>\n",
       "      <td>2007-10-03</td>\n",
       "      <td>辽宁</td>\n",
       "      <td>丹东市大东港以南45海里处</td>\n",
       "      <td>撞沉</td>\n",
       "      <td>1.0</td>\n",
       "      <td>10.0</td>\n",
       "      <td>2007</td>\n",
       "      <td>10</td>\n",
       "      <td>3</td>\n",
       "      <td>True</td>\n",
       "      <td>False</td>\n",
       "      <td>国庆节</td>\n",
       "      <td>False</td>\n",
       "    </tr>\n",
       "    <tr>\n",
       "      <th>282</th>\n",
       "      <td>2007-10-06</td>\n",
       "      <td>云南</td>\n",
       "      <td>曲靖市富源县顺兴煤矿</td>\n",
       "      <td>瓦斯爆炸</td>\n",
       "      <td>9.0</td>\n",
       "      <td>4.0</td>\n",
       "      <td>2007</td>\n",
       "      <td>10</td>\n",
       "      <td>6</td>\n",
       "      <td>True</td>\n",
       "      <td>False</td>\n",
       "      <td>国庆节</td>\n",
       "      <td>False</td>\n",
       "    </tr>\n",
       "    <tr>\n",
       "      <th>454</th>\n",
       "      <td>2009-10-02</td>\n",
       "      <td>湖南</td>\n",
       "      <td>永州市祁阳县大江林场黄沙村地段</td>\n",
       "      <td>自翻</td>\n",
       "      <td>17.0</td>\n",
       "      <td>54.0</td>\n",
       "      <td>2009</td>\n",
       "      <td>10</td>\n",
       "      <td>2</td>\n",
       "      <td>True</td>\n",
       "      <td>False</td>\n",
       "      <td>国庆节</td>\n",
       "      <td>False</td>\n",
       "    </tr>\n",
       "    <tr>\n",
       "      <th>455</th>\n",
       "      <td>2009-10-07</td>\n",
       "      <td>贵州</td>\n",
       "      <td>威宁彝族回族苗族自治县东风镇拱桥村六组一非法采煤窝点井下</td>\n",
       "      <td>窒息</td>\n",
       "      <td>10.0</td>\n",
       "      <td>4.0</td>\n",
       "      <td>2009</td>\n",
       "      <td>10</td>\n",
       "      <td>7</td>\n",
       "      <td>True</td>\n",
       "      <td>False</td>\n",
       "      <td>国庆节</td>\n",
       "      <td>False</td>\n",
       "    </tr>\n",
       "    <tr>\n",
       "      <th>456</th>\n",
       "      <td>2009-10-08</td>\n",
       "      <td>湖南</td>\n",
       "      <td>娄底市冷水江市锡矿山闪星锑业公司南矿主力井主提升井</td>\n",
       "      <td>钢丝绳断绳</td>\n",
       "      <td>26.0</td>\n",
       "      <td>5.0</td>\n",
       "      <td>2009</td>\n",
       "      <td>10</td>\n",
       "      <td>8</td>\n",
       "      <td>True</td>\n",
       "      <td>False</td>\n",
       "      <td>国庆节</td>\n",
       "      <td>False</td>\n",
       "    </tr>\n",
       "    <tr>\n",
       "      <th>537</th>\n",
       "      <td>2010-10-02</td>\n",
       "      <td>西藏</td>\n",
       "      <td>林芝县米瑞乡增巴村路段</td>\n",
       "      <td>驶出路面掉江中</td>\n",
       "      <td>10.0</td>\n",
       "      <td>NaN</td>\n",
       "      <td>2010</td>\n",
       "      <td>10</td>\n",
       "      <td>2</td>\n",
       "      <td>True</td>\n",
       "      <td>False</td>\n",
       "      <td>国庆节</td>\n",
       "      <td>False</td>\n",
       "    </tr>\n",
       "    <tr>\n",
       "      <th>602</th>\n",
       "      <td>2011-10-01</td>\n",
       "      <td>湖北</td>\n",
       "      <td>宜昌市兴山县峡口镇境内</td>\n",
       "      <td>客车坠香溪河</td>\n",
       "      <td>16.0</td>\n",
       "      <td>19.0</td>\n",
       "      <td>2011</td>\n",
       "      <td>10</td>\n",
       "      <td>1</td>\n",
       "      <td>True</td>\n",
       "      <td>False</td>\n",
       "      <td>国庆节</td>\n",
       "      <td>False</td>\n",
       "    </tr>\n",
       "    <tr>\n",
       "      <th>603</th>\n",
       "      <td>2011-10-04</td>\n",
       "      <td>贵州</td>\n",
       "      <td>荔波县安平煤矿</td>\n",
       "      <td>煤与瓦斯突出</td>\n",
       "      <td>17.0</td>\n",
       "      <td>11.0</td>\n",
       "      <td>2011</td>\n",
       "      <td>10</td>\n",
       "      <td>4</td>\n",
       "      <td>True</td>\n",
       "      <td>False</td>\n",
       "      <td>国庆节</td>\n",
       "      <td>False</td>\n",
       "    </tr>\n",
       "    <tr>\n",
       "      <th>604</th>\n",
       "      <td>2011-10-05</td>\n",
       "      <td>江苏</td>\n",
       "      <td>南京市钢铁有限联合公司炼铁厂5号高炉</td>\n",
       "      <td>发生铁水外溢</td>\n",
       "      <td>12.0</td>\n",
       "      <td>1.0</td>\n",
       "      <td>2011</td>\n",
       "      <td>10</td>\n",
       "      <td>5</td>\n",
       "      <td>True</td>\n",
       "      <td>False</td>\n",
       "      <td>国庆节</td>\n",
       "      <td>False</td>\n",
       "    </tr>\n",
       "    <tr>\n",
       "      <th>605</th>\n",
       "      <td>2011-10-07</td>\n",
       "      <td>河南</td>\n",
       "      <td>社旗县道333线桥头段吴庄村东约500m处</td>\n",
       "      <td>重挂面包相撞</td>\n",
       "      <td>11.0</td>\n",
       "      <td>NaN</td>\n",
       "      <td>2011</td>\n",
       "      <td>10</td>\n",
       "      <td>7</td>\n",
       "      <td>True</td>\n",
       "      <td>False</td>\n",
       "      <td>国庆节</td>\n",
       "      <td>False</td>\n",
       "    </tr>\n",
       "    <tr>\n",
       "      <th>606</th>\n",
       "      <td>2011-10-07</td>\n",
       "      <td>天津</td>\n",
       "      <td>北辰区滨保高速60km+500m处</td>\n",
       "      <td>大客小轿追尾</td>\n",
       "      <td>35.0</td>\n",
       "      <td>19.0</td>\n",
       "      <td>2011</td>\n",
       "      <td>10</td>\n",
       "      <td>7</td>\n",
       "      <td>True</td>\n",
       "      <td>False</td>\n",
       "      <td>国庆节</td>\n",
       "      <td>False</td>\n",
       "    </tr>\n",
       "    <tr>\n",
       "      <th>665</th>\n",
       "      <td>2012-10-05</td>\n",
       "      <td>湖南</td>\n",
       "      <td>沅江市琼湖水域</td>\n",
       "      <td>运砂船与农用船碰撞致农用船翻沉</td>\n",
       "      <td>11.0</td>\n",
       "      <td>1.0</td>\n",
       "      <td>2012</td>\n",
       "      <td>10</td>\n",
       "      <td>5</td>\n",
       "      <td>True</td>\n",
       "      <td>False</td>\n",
       "      <td>国庆节</td>\n",
       "      <td>False</td>\n",
       "    </tr>\n",
       "    <tr>\n",
       "      <th>666</th>\n",
       "      <td>2012-10-07</td>\n",
       "      <td>山东</td>\n",
       "      <td>淄博市青银高速公路银川方向228km+530m处</td>\n",
       "      <td>大客车与轿车剐蹭后撞大客车</td>\n",
       "      <td>14.0</td>\n",
       "      <td>42.0</td>\n",
       "      <td>2012</td>\n",
       "      <td>10</td>\n",
       "      <td>7</td>\n",
       "      <td>True</td>\n",
       "      <td>False</td>\n",
       "      <td>国庆节</td>\n",
       "      <td>False</td>\n",
       "    </tr>\n",
       "    <tr>\n",
       "      <th>847</th>\n",
       "      <td>2019-10-03</td>\n",
       "      <td>安徽</td>\n",
       "      <td>蚌埠市宁洛高速</td>\n",
       "      <td>交通事故</td>\n",
       "      <td>10.0</td>\n",
       "      <td>NaN</td>\n",
       "      <td>2019</td>\n",
       "      <td>10</td>\n",
       "      <td>3</td>\n",
       "      <td>True</td>\n",
       "      <td>False</td>\n",
       "      <td>国庆节</td>\n",
       "      <td>False</td>\n",
       "    </tr>\n",
       "  </tbody>\n",
       "</table>\n",
       "</div>"
      ],
      "text/plain": [
       "          time province                          city         accident  death  \\\n",
       "85  2005-10-03       河南         鹤壁市煤业集团二矿 38 煤柱工作面采空区             瓦斯爆炸   34.0   \n",
       "86  2005-10-04       四川  广安市广安区境内四川煤炭产业集团公司所属广能集团龙滩煤矿               透水   28.0   \n",
       "87  2005-10-04       新疆                拜城县亚吐尔乡煤矿 1 号井             瓦斯爆炸   14.0   \n",
       "88  2005-10-04       广西                   田林县境内田林县利周乡               坠沟   11.0   \n",
       "89  2005-10-04       甘肃               陇南市成县化垭乡开往县城成康路               坠崖   15.0   \n",
       "200 2006-10-01       重庆                 沙坪坝区嘉陵江石门大桥引桥               坠桥   30.0   \n",
       "201 2006-10-05       新疆                     库车县314 国道               追尾   10.0   \n",
       "202 2006-10-06       四川                       宜宾市芙蓉煤矿             瓦斯爆炸   13.0   \n",
       "280 2007-10-01       湖南                        常德市桃源县               翻车   11.0   \n",
       "281 2007-10-03       辽宁                 丹东市大东港以南45海里处               撞沉    1.0   \n",
       "282 2007-10-06       云南                    曲靖市富源县顺兴煤矿             瓦斯爆炸    9.0   \n",
       "454 2009-10-02       湖南               永州市祁阳县大江林场黄沙村地段               自翻   17.0   \n",
       "455 2009-10-07       贵州  威宁彝族回族苗族自治县东风镇拱桥村六组一非法采煤窝点井下               窒息   10.0   \n",
       "456 2009-10-08       湖南     娄底市冷水江市锡矿山闪星锑业公司南矿主力井主提升井            钢丝绳断绳   26.0   \n",
       "537 2010-10-02       西藏                   林芝县米瑞乡增巴村路段          驶出路面掉江中   10.0   \n",
       "602 2011-10-01       湖北                   宜昌市兴山县峡口镇境内           客车坠香溪河   16.0   \n",
       "603 2011-10-04       贵州                       荔波县安平煤矿           煤与瓦斯突出   17.0   \n",
       "604 2011-10-05       江苏            南京市钢铁有限联合公司炼铁厂5号高炉           发生铁水外溢   12.0   \n",
       "605 2011-10-07       河南         社旗县道333线桥头段吴庄村东约500m处           重挂面包相撞   11.0   \n",
       "606 2011-10-07       天津             北辰区滨保高速60km+500m处           大客小轿追尾   35.0   \n",
       "665 2012-10-05       湖南                       沅江市琼湖水域  运砂船与农用船碰撞致农用船翻沉   11.0   \n",
       "666 2012-10-07       山东      淄博市青银高速公路银川方向228km+530m处    大客车与轿车剐蹭后撞大客车   14.0   \n",
       "847 2019-10-03       安徽                       蚌埠市宁洛高速            交通事故    10.0   \n",
       "\n",
       "     injury  year  month  day  holiday  weekend  节假日  weekend_work  \n",
       "85     19.0  2005     10    3     True    False  国庆节         False  \n",
       "86      NaN  2005     10    4     True    False  国庆节         False  \n",
       "87      NaN  2005     10    4     True    False  国庆节         False  \n",
       "88     29.0  2005     10    4     True    False  国庆节         False  \n",
       "89     27.0  2005     10    4     True    False  国庆节         False  \n",
       "200    20.0  2006     10    1     True    False  国庆节         False  \n",
       "201     3.0  2006     10    5     True    False  国庆节         False  \n",
       "202     7.0  2006     10    6     True    False  国庆节         False  \n",
       "280     NaN  2007     10    1     True    False  国庆节         False  \n",
       "281    10.0  2007     10    3     True    False  国庆节         False  \n",
       "282     4.0  2007     10    6     True    False  国庆节         False  \n",
       "454    54.0  2009     10    2     True    False  国庆节         False  \n",
       "455     4.0  2009     10    7     True    False  国庆节         False  \n",
       "456     5.0  2009     10    8     True    False  国庆节         False  \n",
       "537     NaN  2010     10    2     True    False  国庆节         False  \n",
       "602    19.0  2011     10    1     True    False  国庆节         False  \n",
       "603    11.0  2011     10    4     True    False  国庆节         False  \n",
       "604     1.0  2011     10    5     True    False  国庆节         False  \n",
       "605     NaN  2011     10    7     True    False  国庆节         False  \n",
       "606    19.0  2011     10    7     True    False  国庆节         False  \n",
       "665     1.0  2012     10    5     True    False  国庆节         False  \n",
       "666    42.0  2012     10    7     True    False  国庆节         False  \n",
       "847     NaN  2019     10    3     True    False  国庆节         False  "
      ]
     },
     "execution_count": 66,
     "metadata": {},
     "output_type": "execute_result"
    }
   ],
   "source": [
    "#查看某一节假日的事故，比如国庆节\n",
    "data[data['节假日'].isin(['国庆节'])]"
   ]
  },
  {
   "cell_type": "code",
   "execution_count": 67,
   "metadata": {},
   "outputs": [
    {
     "data": {
      "image/png": "[encoded data removed]",
      "text/plain": [
       "<Figure size 1400x700 with 1 Axes>"
      ]
     },
     "metadata": {},
     "output_type": "display_data"
    }
   ],
   "source": [
    "#绘制节假日事故饼图\n",
    "plt.rcParams['figure.dpi'] = 140\n",
    "data['节假日'].value_counts()[::-1].plot(kind='pie',autopct='%.2f%%',cmap='viridis_r',label = True,\n",
    "                                wedgeprops={'linewidth': 1, 'edgecolor': \"black\"},\n",
    "                                figsize=(10,5),\n",
    "                               explode = [0,0,0,0,0,0,0.03])\n",
    "plt.axis('off')\n",
    "plt.legend(loc = (0.94,0.1))\n",
    "plt.savefig(r'C:\\Users\\86177\\Desktop\\2005-2019年安全事故统计论文\\img\\10.png',dpi =200)"
   ]
  },
  {
   "cell_type": "code",
   "execution_count": null,
   "metadata": {},
   "outputs": [],
   "source": []
  }
 ],
 "metadata": {
  "kernelspec": {
   "display_name": "Python 3",
   "language": "python",
   "name": "python3"
  },
  "language_info": {
   "codemirror_mode": {
    "name": "ipython",
    "version": 3
   },
   "file_extension": ".py",
   "mimetype": "text/x-python",
   "name": "python",
   "nbconvert_exporter": "python",
   "pygments_lexer": "ipython3",
   "version": "3.8.3"
  }
 },
 "nbformat": 4,
 "nbformat_minor": 4
}

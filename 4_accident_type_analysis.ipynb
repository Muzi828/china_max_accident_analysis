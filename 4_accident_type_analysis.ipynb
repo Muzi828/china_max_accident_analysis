{
 "cells": [
  {
   "cell_type": "code",
   "execution_count": 1,
   "metadata": {},
   "outputs": [],
   "source": [
    "import warnings\n",
    "warnings.filterwarnings('ignore')\n",
    "import numpy as np\n",
    "import pandas as pd\n",
    "import matplotlib.pyplot as plt\n",
    "%matplotlib inline"
   ]
  },
  {
   "cell_type": "markdown",
   "metadata": {},
   "source": [
    "### 数据加载及处理"
   ]
  },
  {
   "cell_type": "code",
   "execution_count": 2,
   "metadata": {},
   "outputs": [
    {
     "data": {
      "text/html": [
       "<div>\n",
       "<style scoped>\n",
       "    .dataframe tbody tr th:only-of-type {\n",
       "        vertical-align: middle;\n",
       "    }\n",
       "\n",
       "    .dataframe tbody tr th {\n",
       "        vertical-align: top;\n",
       "    }\n",
       "\n",
       "    .dataframe thead th {\n",
       "        text-align: right;\n",
       "    }\n",
       "</style>\n",
       "<table border=\"1\" class=\"dataframe\">\n",
       "  <thead>\n",
       "    <tr style=\"text-align: right;\">\n",
       "      <th></th>\n",
       "      <th>time</th>\n",
       "      <th>province</th>\n",
       "      <th>city</th>\n",
       "      <th>accident</th>\n",
       "      <th>death</th>\n",
       "      <th>injury</th>\n",
       "    </tr>\n",
       "  </thead>\n",
       "  <tbody>\n",
       "    <tr>\n",
       "      <th>0</th>\n",
       "      <td>2005-01-05</td>\n",
       "      <td>山西</td>\n",
       "      <td>运城市平陆县境内平风线</td>\n",
       "      <td>翻车</td>\n",
       "      <td>12.0</td>\n",
       "      <td>12.0</td>\n",
       "    </tr>\n",
       "    <tr>\n",
       "      <th>1</th>\n",
       "      <td>2005-01-06</td>\n",
       "      <td>福建</td>\n",
       "      <td>莆田市同三线高速公路莆田灵川路段</td>\n",
       "      <td>车辆失控</td>\n",
       "      <td>28.0</td>\n",
       "      <td>19.0</td>\n",
       "    </tr>\n",
       "    <tr>\n",
       "      <th>2</th>\n",
       "      <td>2005-01-11</td>\n",
       "      <td>山西</td>\n",
       "      <td>临汾市襄汾县京安村襄浏花炮厂装配车间</td>\n",
       "      <td>爆炸</td>\n",
       "      <td>25.0</td>\n",
       "      <td>10.0</td>\n",
       "    </tr>\n",
       "    <tr>\n",
       "      <th>3</th>\n",
       "      <td>2005-01-12</td>\n",
       "      <td>河南</td>\n",
       "      <td>洛阳市宜阳县城关乡乔岩直井煤矿</td>\n",
       "      <td>瓦斯燃烧</td>\n",
       "      <td>10.0</td>\n",
       "      <td>17.0</td>\n",
       "    </tr>\n",
       "    <tr>\n",
       "      <th>4</th>\n",
       "      <td>2005-01-16</td>\n",
       "      <td>重庆</td>\n",
       "      <td>南川区南城街道办事处云华煤业有限公司</td>\n",
       "      <td>煤与瓦斯突出</td>\n",
       "      <td>12.0</td>\n",
       "      <td>NaN</td>\n",
       "    </tr>\n",
       "  </tbody>\n",
       "</table>\n",
       "</div>"
      ],
      "text/plain": [
       "        time province                city accident  death  injury\n",
       "0 2005-01-05       山西         运城市平陆县境内平风线      翻车    12.0    12.0\n",
       "1 2005-01-06       福建    莆田市同三线高速公路莆田灵川路段     车辆失控   28.0    19.0\n",
       "2 2005-01-11       山西  临汾市襄汾县京安村襄浏花炮厂装配车间       爆炸   25.0    10.0\n",
       "3 2005-01-12       河南     洛阳市宜阳县城关乡乔岩直井煤矿     瓦斯燃烧   10.0    17.0\n",
       "4 2005-01-16       重庆  南川区南城街道办事处云华煤业有限公司   煤与瓦斯突出   12.0     NaN"
      ]
     },
     "execution_count": 2,
     "metadata": {},
     "output_type": "execute_result"
    }
   ],
   "source": [
    "df = pd.read_excel(r'D:\\paper\\safety\\data\\max_accident_data\\accident_type.xlsx')\n",
    "data = df.copy().drop('Unnamed: 6',axis =1)\n",
    "data.columns = ['time','province','city','accident','death','injury']\n",
    "data.head()"
   ]
  },
  {
   "cell_type": "markdown",
   "metadata": {},
   "source": [
    "### 事故类型分析"
   ]
  },
  {
   "cell_type": "code",
   "execution_count": 3,
   "metadata": {},
   "outputs": [
    {
     "data": {
      "text/plain": [
       "瓦斯爆炸      86\n",
       "火灾        36\n",
       "煤与瓦斯突出    36\n",
       "透水        34\n",
       "相撞        24\n",
       "爆炸        21\n",
       "撞车        18\n",
       "道路交通事故    14\n",
       "翻车        14\n",
       "撞船        13\n",
       "追尾        10\n",
       "山体滑坡       8\n",
       "炸药爆炸       8\n",
       "道路运输事故     8\n",
       "坠沟         8\n",
       "沉船         7\n",
       "翻沟         6\n",
       "发生火灾       6\n",
       "火药爆炸       5\n",
       "翻坡         5\n",
       "烟花爆竹爆炸     5\n",
       "瓦斯突出       5\n",
       "渔船失去联系     5\n",
       "坠桥         4\n",
       "坠河         4\n",
       "坍塌         4\n",
       "火灾事故       4\n",
       "发生瓦斯爆炸     4\n",
       "煤尘爆炸       4\n",
       "瓦斯燃烧       4\n",
       "窒息         3\n",
       "塌陷         3\n",
       "碰撞         3\n",
       "撞人         3\n",
       "坠崖         3\n",
       "翻船         3\n",
       "电缆着火       3\n",
       "粉尘爆炸       3\n",
       "垮塌         3\n",
       "发生透水       3\n",
       "发生爆炸事故     3\n",
       "两车相撞       3\n",
       "撞护栏        3\n",
       "翻下陡坡       3\n",
       "坠江         2\n",
       "起火         2\n",
       "翻下深沟       2\n",
       "失去联系       2\n",
       "客车翻车       2\n",
       "瓦斯         2\n",
       "Name: accident, dtype: int64"
      ]
     },
     "execution_count": 3,
     "metadata": {},
     "output_type": "execute_result"
    }
   ],
   "source": [
    "data_max_type =  data['accident'].value_counts()\n",
    "data_max_type[:50]\n",
    "#查看前五十个"
   ]
  },
  {
   "cell_type": "code",
   "execution_count": 4,
   "metadata": {},
   "outputs": [
    {
     "name": "stdout",
     "output_type": "stream",
     "text": [
      "other共有24起事故\n",
      "------------\n",
      "其中的类型为：['铝水伤人', '发生铁水外溢', '液氨泄漏', '刮擦', '冲击地压事故', '潮水滞留海上', '大风冰雹暴雨', '暴雨洪涝', '安石隧道掌子面突泥涌水', '物体打击', '工地发生触电事故', '钢水洒出', '群众拥挤踩踏', '洪水', '客机降落失事', '失踪', '失去联系', '施工中升降机发生事故', '钢丝绳断绳', '炉底烧穿']\n"
     ]
    }
   ],
   "source": [
    "fire = data_max_type[data_max_type.index.str.contains('燃|火')]\n",
    "fire_num = fire.sum()\n",
    "\n",
    "blast = data_max_type[data_max_type.index.str.contains('爆')]\n",
    "blast_num = blast.sum()\n",
    "\n",
    "traffic = data_max_type[data_max_type.index.str.contains('交通|碰|撞|翻|尾|溜|坠|船|运输|路|车|沉没|搁浅')]\n",
    "traffic_num = traffic.sum()\n",
    "\n",
    "collapse =  data_max_type[data_max_type.index.str.contains('坍|塌|滑坡|崩|溃坝')]\n",
    "collapse_num = collapse.sum()\n",
    "\n",
    "mine = data_max_type[data_max_type.index.str.contains('煤|瓦斯|透水|冒顶|放炮|顶板')]\n",
    "mine_num = mine.sum()\n",
    "\n",
    "poi = data_max_type[data_max_type.index.str.contains('毒|窒息')]\n",
    "poi_num = poi.sum()\n",
    "\n",
    "other = list(set(data_max_type.index.tolist()) - set(mine.index.tolist())\\\n",
    "             -set(blast.index.tolist())\\\n",
    "             -set(traffic.index.tolist())\\\n",
    "             -set(collapse.index.tolist())\\\n",
    "             -set(poi.index.tolist())\\\n",
    "             -set(fire.index.tolist()))\n",
    "\n",
    "other_num = 0\n",
    "for var in data_max_type.index:\n",
    "    if var in other:\n",
    "        other_num += data_max_type.loc[var]\n",
    "print('other共有{}起事故\\n------------\\n其中的类型为：{}'.format(other_num,other))"
   ]
  },
  {
   "cell_type": "code",
   "execution_count": 5,
   "metadata": {},
   "outputs": [],
   "source": [
    "type_num = [blast_num,poi_num,other_num,fire_num,collapse_num,mine_num,traffic_num]\n",
    "type_acci = ['爆炸','中毒与窒息','其他','火灾','坍塌','矿业','交通']"
   ]
  },
  {
   "cell_type": "code",
   "execution_count": 6,
   "metadata": {},
   "outputs": [
    {
     "name": "stdout",
     "output_type": "stream",
     "text": [
      "爆炸事故数量186起\n",
      "中毒与窒息事故数量17起\n",
      "其他事故数量24起\n",
      "火灾事故数量109起\n",
      "坍塌事故数量55起\n",
      "矿业事故数量217起\n",
      "交通事故数量397起\n"
     ]
    }
   ],
   "source": [
    "for i,j in zip(type_acci,type_num):\n",
    "    print(\"{}事故数量{}起\".format(i,j))"
   ]
  },
  {
   "cell_type": "code",
   "execution_count": 7,
   "metadata": {},
   "outputs": [
    {
     "data": {
      "text/plain": [
       "爆炸       186\n",
       "中毒与窒息     17\n",
       "其他        24\n",
       "火灾       109\n",
       "坍塌        55\n",
       "矿业       217\n",
       "交通       397\n",
       "dtype: int64"
      ]
     },
     "execution_count": 7,
     "metadata": {},
     "output_type": "execute_result"
    }
   ],
   "source": [
    "data_type = pd.Series(type_num,index = type_acci)\n",
    "data_type"
   ]
  },
  {
   "cell_type": "code",
   "execution_count": 8,
   "metadata": {},
   "outputs": [
    {
     "data": {
      "text/plain": [
       "(-1.25, 1.25, -1.25, 1.25)"
      ]
     },
     "execution_count": 8,
     "metadata": {},
     "output_type": "execute_result"
    },
    {
     "data": {
      "image/png": "[encoded data removed]",
      "text/plain": [
       "<Figure size 864x576 with 1 Axes>"
      ]
     },
     "metadata": {},
     "output_type": "display_data"
    }
   ],
   "source": [
    "data_type.plot(kind='pie',autopct='%.2f%%',cmap='jet',\n",
    "                                wedgeprops={'linewidth': 1, 'edgecolor': \"black\"},\n",
    "                                figsize=(12,8),\n",
    "                               explode = [0,0,0,0,0,0,0.03])\n",
    "plt.legend(loc = (0.94,0.1))\n",
    "plt.axis('off')"
   ]
  },
  {
   "cell_type": "code",
   "execution_count": 9,
   "metadata": {},
   "outputs": [
    {
     "data": {
      "text/html": [
       "<script>\n",
       "    require.config({\n",
       "        paths: {\n",
       "            'echarts': '/nbextensions/echarts/echarts.min'\n",
       "        }\n",
       "    });\n",
       "</script>\n",
       "    <div id=\"46311b38479e48778169a9239f2d1484\" style=\"width:800px;height:400px;\"></div>\n",
       "\n",
       "\n",
       "<script>\n",
       "    require(['echarts'], function(echarts) {\n",
       "        \n",
       "var myChart_46311b38479e48778169a9239f2d1484 = echarts.init(document.getElementById('46311b38479e48778169a9239f2d1484'), 'light', {renderer: 'canvas'});\n",
       "\n",
       "var option_46311b38479e48778169a9239f2d1484 = {\n",
       "    \"title\": [\n",
       "        {\n",
       "            \"text\": \"\\u7279\\u5927\\u4e8b\\u6545\\u7c7b\\u578b\\u5360\\u6bd4\\u5206\\u6790\",\n",
       "            \"left\": \"center\",\n",
       "            \"top\": \"auto\",\n",
       "            \"textStyle\": {\n",
       "                \"fontSize\": 18\n",
       "            },\n",
       "            \"subtextStyle\": {\n",
       "                \"fontSize\": 12\n",
       "            }\n",
       "        }\n",
       "    ],\n",
       "    \"toolbox\": {\n",
       "        \"show\": true,\n",
       "        \"orient\": \"vertical\",\n",
       "        \"left\": \"95%\",\n",
       "        \"top\": \"center\",\n",
       "        \"feature\": {\n",
       "            \"saveAsImage\": {\n",
       "                \"show\": true,\n",
       "                \"title\": \"save as image\"\n",
       "            },\n",
       "            \"restore\": {\n",
       "                \"show\": true,\n",
       "                \"title\": \"restore\"\n",
       "            },\n",
       "            \"dataView\": {\n",
       "                \"show\": true,\n",
       "                \"title\": \"data view\"\n",
       "            }\n",
       "        }\n",
       "    },\n",
       "    \"series_id\": 6512957,\n",
       "    \"tooltip\": {\n",
       "        \"trigger\": \"item\",\n",
       "        \"triggerOn\": \"mousemove|click\",\n",
       "        \"axisPointer\": {\n",
       "            \"type\": \"line\"\n",
       "        },\n",
       "        \"textStyle\": {\n",
       "            \"fontSize\": 14\n",
       "        },\n",
       "        \"backgroundColor\": \"rgba(50,50,50,0.7)\",\n",
       "        \"borderColor\": \"#333\",\n",
       "        \"borderWidth\": 0\n",
       "    },\n",
       "    \"series\": [\n",
       "        {\n",
       "            \"type\": \"pie\",\n",
       "            \"data\": [\n",
       "                {\n",
       "                    \"name\": \"\\u7206\\u70b8\",\n",
       "                    \"value\": 186.0\n",
       "                },\n",
       "                {\n",
       "                    \"name\": \"\\u4e2d\\u6bd2\\u4e0e\\u7a92\\u606f\",\n",
       "                    \"value\": 17.0\n",
       "                },\n",
       "                {\n",
       "                    \"name\": \"\\u5176\\u4ed6\",\n",
       "                    \"value\": 24.0\n",
       "                },\n",
       "                {\n",
       "                    \"name\": \"\\u706b\\u707e\",\n",
       "                    \"value\": 109.0\n",
       "                },\n",
       "                {\n",
       "                    \"name\": \"\\u574d\\u584c\",\n",
       "                    \"value\": 55.0\n",
       "                },\n",
       "                {\n",
       "                    \"name\": \"\\u77ff\\u4e1a\",\n",
       "                    \"value\": 217.0\n",
       "                },\n",
       "                {\n",
       "                    \"name\": \"\\u4ea4\\u901a\",\n",
       "                    \"value\": 397.0\n",
       "                }\n",
       "            ],\n",
       "            \"radius\": [\n",
       "                \"40%\",\n",
       "                \"75%\"\n",
       "            ],\n",
       "            \"center\": [\n",
       "                \"40%\",\n",
       "                \"55%\"\n",
       "            ],\n",
       "            \"label\": {\n",
       "                \"normal\": {\n",
       "                    \"show\": true,\n",
       "                    \"position\": \"outside\",\n",
       "                    \"textStyle\": {\n",
       "                        \"fontSize\": 12\n",
       "                    },\n",
       "                    \"formatter\": \"{b}: {d}%\"\n",
       "                },\n",
       "                \"emphasis\": {\n",
       "                    \"show\": true,\n",
       "                    \"textStyle\": {\n",
       "                        \"fontSize\": 12\n",
       "                    },\n",
       "                    \"formatter\": \"{b}: {d}%\"\n",
       "                }\n",
       "            },\n",
       "            \"seriesId\": 6512957\n",
       "        }\n",
       "    ],\n",
       "    \"legend\": [\n",
       "        {\n",
       "            \"data\": [\n",
       "                \"\\u7206\\u70b8\",\n",
       "                \"\\u4e2d\\u6bd2\\u4e0e\\u7a92\\u606f\",\n",
       "                \"\\u5176\\u4ed6\",\n",
       "                \"\\u706b\\u707e\",\n",
       "                \"\\u574d\\u584c\",\n",
       "                \"\\u77ff\\u4e1a\",\n",
       "                \"\\u4ea4\\u901a\"\n",
       "            ],\n",
       "            \"selectedMode\": \"multiple\",\n",
       "            \"show\": true,\n",
       "            \"left\": \"left\",\n",
       "            \"top\": \"top\",\n",
       "            \"orient\": \"vertical\",\n",
       "            \"textStyle\": {\n",
       "                \"fontSize\": 12\n",
       "            }\n",
       "        }\n",
       "    ],\n",
       "    \"animation\": true,\n",
       "    \"color\": [\n",
       "        \"#c23531\",\n",
       "        \"#2f4554\",\n",
       "        \"#61a0a8\",\n",
       "        \"#d48265\",\n",
       "        \"#749f83\",\n",
       "        \"#ca8622\",\n",
       "        \"#bda29a\",\n",
       "        \"#6e7074\",\n",
       "        \"#546570\",\n",
       "        \"#c4ccd3\",\n",
       "        \"#f05b72\",\n",
       "        \"#ef5b9c\",\n",
       "        \"#f47920\",\n",
       "        \"#905a3d\",\n",
       "        \"#fab27b\",\n",
       "        \"#2a5caa\",\n",
       "        \"#444693\",\n",
       "        \"#726930\",\n",
       "        \"#b2d235\",\n",
       "        \"#6d8346\",\n",
       "        \"#ac6767\",\n",
       "        \"#1d953f\",\n",
       "        \"#6950a1\",\n",
       "        \"#918597\",\n",
       "        \"#f6f5ec\"\n",
       "    ]\n",
       "};\n",
       "myChart_46311b38479e48778169a9239f2d1484.setOption(option_46311b38479e48778169a9239f2d1484);\n",
       "\n",
       "    });\n",
       "</script>\n"
      ],
      "text/plain": [
       "<pyecharts.charts.pie.Pie at 0x1d8e3fe7fc8>"
      ]
     },
     "execution_count": 9,
     "metadata": {},
     "output_type": "execute_result"
    }
   ],
   "source": [
    "from pyecharts import Pie\n",
    "\n",
    "pie = Pie(\"特大事故类型占比分析\", title_pos='center')\n",
    "pie.add(\n",
    "    \"\",\n",
    "    type_acci,\n",
    "    type_num,\n",
    "    center = [40,55],\n",
    "    radius=[40,75],\n",
    "    label_text_color=None,\n",
    "    is_label_show=True,\n",
    "    legend_orient=\"vertical\",\n",
    "    legend_pos=\"left\",\n",
    ")\n",
    "pie"
   ]
  },
  {
   "cell_type": "markdown",
   "metadata": {},
   "source": [
    "### 如果再细分的话，比如在矿业和交通中还是可以细分"
   ]
  },
  {
   "cell_type": "code",
   "execution_count": 10,
   "metadata": {},
   "outputs": [
    {
     "name": "stdout",
     "output_type": "stream",
     "text": [
      "217\n"
     ]
    }
   ],
   "source": [
    "print(mine.sum())"
   ]
  },
  {
   "cell_type": "code",
   "execution_count": 11,
   "metadata": {},
   "outputs": [
    {
     "name": "stdout",
     "output_type": "stream",
     "text": [
      "17\n"
     ]
    },
    {
     "data": {
      "text/plain": [
       "['瓦斯',\n",
       " '甲醇运输车与运煤车追尾致运煤车自燃起火',\n",
       " '煤气泄漏',\n",
       " '煤矿副井筒人车钢丝绳断裂',\n",
       " '煤气中毒',\n",
       " '煤尘爆炸',\n",
       " '煤矿溜灰管坠落',\n",
       " '李家沟煤矿井下发生事故',\n",
       " '煤气罐爆炸',\n",
       " '焦炉煤气柜爆炸',\n",
       " '瓦斯事故']"
      ]
     },
     "execution_count": 11,
     "metadata": {},
     "output_type": "execute_result"
    }
   ],
   "source": [
    "#矿业细分\n",
    "\n",
    "type_1 = mine[mine.index.str.contains('煤与瓦斯突出')]\n",
    "type_2 = mine[mine.index.str.contains('瓦斯爆炸|瓦斯燃烧|瓦斯燃爆')]\n",
    "type_3 = mine[mine.index.str.contains('瓦斯突')]#这个是用来单独求瓦斯突出的,其中瓦斯和瓦斯事故共4期，要算在这里\n",
    "type_4 = mine[mine.index.str.contains('冒顶|顶板')]\n",
    "type_5 = mine[mine.index.str.contains('放炮')]\n",
    "type_6 = mine[mine.index.str.contains('透水')]\n",
    "\n",
    "type_7 = list(set(mine.index.tolist()) \\\n",
    "              - set(type_1.index.tolist()) \\\n",
    "              - set(type_2.index.tolist()) \\\n",
    "              - set(type_3.index.tolist()) \\\n",
    "              - set(type_4.index.tolist()) \\\n",
    "              - set(type_5.index.tolist()) \\\n",
    "              - set(type_6.index.tolist()))\n",
    "type_7_num = 0\n",
    "for var in mine.index:\n",
    "    if var in type_7:\n",
    "        type_7_num += mine.loc[var]\n",
    "\n",
    "print(type_7_num)        \n",
    "type_7"
   ]
  },
  {
   "cell_type": "code",
   "execution_count": 12,
   "metadata": {},
   "outputs": [
    {
     "data": {
      "text/plain": [
       "煤与瓦斯突出        36\n",
       "瓦斯突出           5\n",
       "瓦斯突橱           1\n",
       "煤与瓦斯突出事故       1\n",
       "瓦斯突出事故         1\n",
       "煤与瓦斯突出及爆炸      1\n",
       "广隆煤矿煤与瓦斯突出     1\n",
       "Name: accident, dtype: int64"
      ]
     },
     "execution_count": 12,
     "metadata": {},
     "output_type": "execute_result"
    }
   ],
   "source": [
    "type_3\n",
    "#去掉煤与瓦斯突出的数量，最后瓦斯突出只有6起"
   ]
  },
  {
   "cell_type": "code",
   "execution_count": 13,
   "metadata": {},
   "outputs": [
    {
     "data": {
      "text/plain": [
       "{'放炮引发透水事故'}"
      ]
     },
     "execution_count": 13,
     "metadata": {},
     "output_type": "execute_result"
    }
   ],
   "source": [
    "set(type_5.index) & set(type_6.index)\n",
    "#存在着相同的一个事件，应该归类为透水"
   ]
  },
  {
   "cell_type": "code",
   "execution_count": 14,
   "metadata": {},
   "outputs": [
    {
     "name": "stdout",
     "output_type": "stream",
     "text": [
      "39 101 46 7 3 44 11\n"
     ]
    }
   ],
   "source": [
    "print(type_1.sum(),type_2.sum(),type_3.sum(),type_4.sum(),type_5.sum(),type_6.sum(),len(type_7))"
   ]
  },
  {
   "cell_type": "code",
   "execution_count": 15,
   "metadata": {},
   "outputs": [
    {
     "data": {
      "text/plain": [
       "217"
      ]
     },
     "execution_count": 15,
     "metadata": {},
     "output_type": "execute_result"
    }
   ],
   "source": [
    "ls_mine_type = ['煤与瓦斯突出','瓦斯突出','瓦斯燃烧爆炸','冒顶','放炮','透水','其他']\n",
    "ls_mine_num = [39,6,101,7,3,44,17]\n",
    "sum(ls_mine_num) #解决问题"
   ]
  },
  {
   "cell_type": "code",
   "execution_count": 16,
   "metadata": {},
   "outputs": [
    {
     "data": {
      "text/html": [
       "<script>\n",
       "    require.config({\n",
       "        paths: {\n",
       "            'echarts': '/nbextensions/echarts/echarts.min'\n",
       "        }\n",
       "    });\n",
       "</script>\n",
       "    <div id=\"7efe6459aec144eb8b987da125bf1556\" style=\"width:800px;height:400px;\"></div>\n",
       "\n",
       "\n",
       "<script>\n",
       "    require(['echarts'], function(echarts) {\n",
       "        \n",
       "var myChart_7efe6459aec144eb8b987da125bf1556 = echarts.init(document.getElementById('7efe6459aec144eb8b987da125bf1556'), 'light', {renderer: 'canvas'});\n",
       "\n",
       "var option_7efe6459aec144eb8b987da125bf1556 = {\n",
       "    \"title\": [\n",
       "        {\n",
       "            \"text\": \"\\u77ff\\u4e1a\\u4e8b\\u6545\\u7c7b\\u578b\\u5360\\u6bd4\\u5206\\u6790\",\n",
       "            \"left\": \"center\",\n",
       "            \"top\": \"auto\",\n",
       "            \"textStyle\": {\n",
       "                \"fontSize\": 18\n",
       "            },\n",
       "            \"subtextStyle\": {\n",
       "                \"fontSize\": 12\n",
       "            }\n",
       "        }\n",
       "    ],\n",
       "    \"toolbox\": {\n",
       "        \"show\": true,\n",
       "        \"orient\": \"vertical\",\n",
       "        \"left\": \"95%\",\n",
       "        \"top\": \"center\",\n",
       "        \"feature\": {\n",
       "            \"saveAsImage\": {\n",
       "                \"show\": true,\n",
       "                \"title\": \"save as image\"\n",
       "            },\n",
       "            \"restore\": {\n",
       "                \"show\": true,\n",
       "                \"title\": \"restore\"\n",
       "            },\n",
       "            \"dataView\": {\n",
       "                \"show\": true,\n",
       "                \"title\": \"data view\"\n",
       "            }\n",
       "        }\n",
       "    },\n",
       "    \"series_id\": 5843973,\n",
       "    \"tooltip\": {\n",
       "        \"trigger\": \"item\",\n",
       "        \"triggerOn\": \"mousemove|click\",\n",
       "        \"axisPointer\": {\n",
       "            \"type\": \"line\"\n",
       "        },\n",
       "        \"textStyle\": {\n",
       "            \"fontSize\": 14\n",
       "        },\n",
       "        \"backgroundColor\": \"rgba(50,50,50,0.7)\",\n",
       "        \"borderColor\": \"#333\",\n",
       "        \"borderWidth\": 0\n",
       "    },\n",
       "    \"series\": [\n",
       "        {\n",
       "            \"type\": \"pie\",\n",
       "            \"data\": [\n",
       "                {\n",
       "                    \"name\": \"\\u7164\\u4e0e\\u74e6\\u65af\\u7a81\\u51fa\",\n",
       "                    \"value\": 39\n",
       "                },\n",
       "                {\n",
       "                    \"name\": \"\\u74e6\\u65af\\u7a81\\u51fa\",\n",
       "                    \"value\": 6\n",
       "                },\n",
       "                {\n",
       "                    \"name\": \"\\u74e6\\u65af\\u71c3\\u70e7\\u7206\\u70b8\",\n",
       "                    \"value\": 101\n",
       "                },\n",
       "                {\n",
       "                    \"name\": \"\\u5192\\u9876\",\n",
       "                    \"value\": 7\n",
       "                },\n",
       "                {\n",
       "                    \"name\": \"\\u653e\\u70ae\",\n",
       "                    \"value\": 3\n",
       "                },\n",
       "                {\n",
       "                    \"name\": \"\\u900f\\u6c34\",\n",
       "                    \"value\": 44\n",
       "                },\n",
       "                {\n",
       "                    \"name\": \"\\u5176\\u4ed6\",\n",
       "                    \"value\": 17\n",
       "                }\n",
       "            ],\n",
       "            \"radius\": [\n",
       "                \"40%\",\n",
       "                \"75%\"\n",
       "            ],\n",
       "            \"center\": [\n",
       "                \"40%\",\n",
       "                \"55%\"\n",
       "            ],\n",
       "            \"label\": {\n",
       "                \"normal\": {\n",
       "                    \"show\": true,\n",
       "                    \"position\": \"outside\",\n",
       "                    \"textStyle\": {\n",
       "                        \"fontSize\": 12\n",
       "                    },\n",
       "                    \"formatter\": \"{b}: {d}%\"\n",
       "                },\n",
       "                \"emphasis\": {\n",
       "                    \"show\": true,\n",
       "                    \"textStyle\": {\n",
       "                        \"fontSize\": 12\n",
       "                    },\n",
       "                    \"formatter\": \"{b}: {d}%\"\n",
       "                }\n",
       "            },\n",
       "            \"seriesId\": 5843973\n",
       "        }\n",
       "    ],\n",
       "    \"legend\": [\n",
       "        {\n",
       "            \"data\": [\n",
       "                \"\\u7164\\u4e0e\\u74e6\\u65af\\u7a81\\u51fa\",\n",
       "                \"\\u74e6\\u65af\\u7a81\\u51fa\",\n",
       "                \"\\u74e6\\u65af\\u71c3\\u70e7\\u7206\\u70b8\",\n",
       "                \"\\u5192\\u9876\",\n",
       "                \"\\u653e\\u70ae\",\n",
       "                \"\\u900f\\u6c34\",\n",
       "                \"\\u5176\\u4ed6\"\n",
       "            ],\n",
       "            \"selectedMode\": \"multiple\",\n",
       "            \"show\": true,\n",
       "            \"left\": \"left\",\n",
       "            \"top\": \"top\",\n",
       "            \"orient\": \"vertical\",\n",
       "            \"textStyle\": {\n",
       "                \"fontSize\": 12\n",
       "            }\n",
       "        }\n",
       "    ],\n",
       "    \"animation\": true,\n",
       "    \"color\": [\n",
       "        \"#c23531\",\n",
       "        \"#2f4554\",\n",
       "        \"#61a0a8\",\n",
       "        \"#d48265\",\n",
       "        \"#749f83\",\n",
       "        \"#ca8622\",\n",
       "        \"#bda29a\",\n",
       "        \"#6e7074\",\n",
       "        \"#546570\",\n",
       "        \"#c4ccd3\",\n",
       "        \"#f05b72\",\n",
       "        \"#ef5b9c\",\n",
       "        \"#f47920\",\n",
       "        \"#905a3d\",\n",
       "        \"#fab27b\",\n",
       "        \"#2a5caa\",\n",
       "        \"#444693\",\n",
       "        \"#726930\",\n",
       "        \"#b2d235\",\n",
       "        \"#6d8346\",\n",
       "        \"#ac6767\",\n",
       "        \"#1d953f\",\n",
       "        \"#6950a1\",\n",
       "        \"#918597\",\n",
       "        \"#f6f5ec\"\n",
       "    ]\n",
       "};\n",
       "myChart_7efe6459aec144eb8b987da125bf1556.setOption(option_7efe6459aec144eb8b987da125bf1556);\n",
       "\n",
       "    });\n",
       "</script>\n"
      ],
      "text/plain": [
       "<pyecharts.charts.pie.Pie at 0x1d8e6397648>"
      ]
     },
     "execution_count": 16,
     "metadata": {},
     "output_type": "execute_result"
    }
   ],
   "source": [
    "from pyecharts import Pie\n",
    "\n",
    "\n",
    "pie = Pie(\"矿业事故类型占比分析\", title_pos='center')\n",
    "pie.add(\n",
    "    \"\",\n",
    "    ls_mine_type ,\n",
    "    ls_mine_num ,\n",
    "    center = [40,55],\n",
    "    radius=[40,75],\n",
    "    label_text_color=None,\n",
    "    is_label_show=True,\n",
    "    legend_orient=\"vertical\",\n",
    "    legend_pos=\"left\",\n",
    ")\n",
    "pie"
   ]
  },
  {
   "cell_type": "code",
   "execution_count": null,
   "metadata": {},
   "outputs": [],
   "source": []
  }
 ],
 "metadata": {
  "kernelspec": {
   "display_name": "Python 3",
   "language": "python",
   "name": "python3"
  },
  "language_info": {
   "codemirror_mode": {
    "name": "ipython",
    "version": 3
   },
   "file_extension": ".py",
   "mimetype": "text/x-python",
   "name": "python",
   "nbconvert_exporter": "python",
   "pygments_lexer": "ipython3",
   "version": "3.7.6"
  }
 },
 "nbformat": 4,
 "nbformat_minor": 4
}
